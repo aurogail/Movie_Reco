{
 "cells": [
  {
   "cell_type": "code",
   "execution_count": 9,
   "id": "d4ede914-7b45-4716-9516-5068a17e164b",
   "metadata": {},
   "outputs": [],
   "source": [
    "import pandas as pd\n",
    "import pickle\n",
    "import random\n",
    "from sklearn.feature_extraction.text import TfidfVectorizer\n",
    "from sklearn.metrics.pairwise import cosine_similarity, euclidean_distances\n",
    "from surprise import Reader, Dataset\n",
    "from surprise import SVD\n",
    "from surprise.model_selection import cross_validate"
   ]
  },
  {
   "cell_type": "code",
   "execution_count": 10,
   "id": "bfc9bf3f-0145-459e-84d9-fcd6b2f49d5b",
   "metadata": {},
   "outputs": [],
   "source": [
    "# Content-Based filtering\n",
    "df_content_tags = pd.read_csv(\"../data/interim/movies_tags.csv\")\n",
    "df_content_tags.dropna(subset=['all_tags'], inplace=True)\n",
    "tfidf = TfidfVectorizer()\n",
    "matrice_tfidf = tfidf.fit_transform(df_content_tags['all_tags'])\n",
    "sim_cosinus = cosine_similarity(matrice_tfidf, matrice_tfidf)\n",
    "sim_euclidienne = 1 / (1 + euclidean_distances(matrice_tfidf))\n",
    "indices = pd.Series(range(0,len(df_content_tags)), index=df_content_tags.title)\n",
    "\n",
    "def recommandations_content(titre, cos_sim, num_recommendations=10):\n",
    "    idx = indices[titre]\n",
    "    scores_similarite = list(enumerate(cos_sim[idx]))\n",
    "    scores_similarite = sorted(scores_similarite, key=lambda x: x[1], reverse=True)\n",
    "    top_similair = scores_similarite[1:num_recommendations+1]\n",
    "    res = [(indices.index[idx], score) for idx, score in top_similair]\n",
    "    res = pd.DataFrame(res)\n",
    "    res = res.rename(columns={0: 'title', 1: 'score'})\n",
    "    return res"
   ]
  },
  {
   "cell_type": "code",
   "execution_count": 11,
   "id": "4e0f557e-5941-4a8c-a522-717ac5f1438e",
   "metadata": {
    "scrolled": true
   },
   "outputs": [
    {
     "name": "stdout",
     "output_type": "stream",
     "text": [
      "(27053, 7877)\n",
      "                                               title     score\n",
      "0                                 Toy Story 2 (1999)  0.574920\n",
      "1                              Monsters, Inc. (2001)  0.401519\n",
      "2                                        Cars (2006)  0.357911\n",
      "3     Adventures of Ichabod and Mr. Toad, The (1949)  0.322854\n",
      "4                                   Pinocchio (1940)  0.313041\n",
      "5                                Finding Nemo (2003)  0.303094\n",
      "6  101 Dalmatians (One Hundred and One Dalmatians...  0.295764\n",
      "7                         Toy Story of Terror (2013)  0.295070\n",
      "8                        Beauty and the Beast (1991)  0.288640\n",
      "9                                       Shrek (2001)  0.286178\n"
     ]
    }
   ],
   "source": [
    "print(matrice_tfidf.shape)\n",
    "print(recommandations_content(\"Toy Story (1995)\", sim_cosinus))"
   ]
  },
  {
   "cell_type": "code",
   "execution_count": 12,
   "id": "f7683b36-2e70-4b17-a782-a9ad90759146",
   "metadata": {},
   "outputs": [
    {
     "name": "stdout",
     "output_type": "stream",
     "text": [
      "Evaluating RMSE, MAE of algorithm SVD on 5 split(s).\n",
      "\n",
      "                  Fold 1  Fold 2  Fold 3  Fold 4  Fold 5  Mean    Std     \n",
      "RMSE (testset)    0.7860  0.7862  0.7864  0.7862  0.7864  0.7862  0.0001  \n",
      "MAE (testset)     0.5980  0.5980  0.5983  0.5983  0.5984  0.5982  0.0002  \n",
      "Fit time          94.06   119.61  102.93  118.68  100.83  107.22  10.17   \n",
      "Test time         31.55   28.25   27.57   26.71   30.63   28.94   1.85    \n"
     ]
    },
    {
     "data": {
      "text/plain": [
       "{'test_rmse': array([0.78599116, 0.78619962, 0.78637094, 0.78623411, 0.78638188]),\n",
       " 'test_mae': array([0.59802472, 0.5980028 , 0.59832207, 0.59826599, 0.59838414]),\n",
       " 'fit_time': (94.06464791297913,\n",
       "  119.60788702964783,\n",
       "  102.93337392807007,\n",
       "  118.68454623222351,\n",
       "  100.83284306526184),\n",
       " 'test_time': (31.551662921905518,\n",
       "  28.252826929092407,\n",
       "  27.565049171447754,\n",
       "  26.70999503135681,\n",
       "  30.634342908859253)}"
      ]
     },
     "execution_count": 12,
     "metadata": {},
     "output_type": "execute_result"
    }
   ],
   "source": [
    "# Collaborative filtering\n",
    "df_ratings = pd.read_csv(\"../data/raw/ratings.csv\")\n",
    "df_ratings = df_ratings.drop(\"timestamp\", axis=1)\n",
    "df_movies = pd.read_csv(\"../data/raw/movies.csv\")\n",
    "reader = Reader(rating_scale=(0, 5))\n",
    "df_surprise = Dataset.load_from_df(df_ratings, reader=reader)\n",
    "\n",
    "svd = SVD()\n",
    "cross_validate(svd, df_surprise,measures=['RMSE', 'MAE'], cv=5, verbose=True )\n"
   ]
  },
  {
   "cell_type": "code",
   "execution_count": 13,
   "id": "03a40752-71d5-4c76-9c6b-c2ed2a626750",
   "metadata": {},
   "outputs": [],
   "source": [
    "train_set = df_surprise.build_full_trainset()"
   ]
  },
  {
   "cell_type": "code",
   "execution_count": 14,
   "id": "2a431ee6-2712-4a8f-ab5e-841581bd75bc",
   "metadata": {},
   "outputs": [],
   "source": [
    "def recommandations_collab(user_id, num_recommendations=10):\n",
    "    # Générer l'anti-test set pour l'utilisateur cible\n",
    "    anti_testset = []\n",
    "    targetUser = train_set.to_inner_uid(user_id)\n",
    "    moyenne = train_set.global_mean\n",
    "    user_note = train_set.ur[targetUser]\n",
    "    user_livre = [item for (item, _) in user_note]\n",
    "\n",
    "    for livre in train_set.all_items():\n",
    "        if livre not in user_livre:\n",
    "            anti_testset.append((user_id, train_set.to_raw_iid(livre), moyenne))\n",
    "\n",
    "    # Effectuer les prédictions\n",
    "    predictionsSVD = svd.test(anti_testset)\n",
    "    predictionsSVD = pd.DataFrame(predictionsSVD)\n",
    "\n",
    "    # Mapper les IDs de films aux titres\n",
    "    movieId_title_map = df_movies.set_index('movieId')['title'].to_dict()\n",
    "    predictionsSVD['title'] = predictionsSVD['iid'].map(movieId_title_map)\n",
    "\n",
    "    # Renommer les colonnes et trier par note estimée\n",
    "    predictionsSVD = predictionsSVD.rename(columns={'uid': 'userId', 'est': 'note'})\n",
    "    predictionsSVD = predictionsSVD[['userId', 'title', 'note']]\n",
    "    predictionsSVD.sort_values('note', ascending=False, inplace=True)\n",
    "\n",
    "    # Retourner les top N recommandations\n",
    "    return predictionsSVD.head(num_recommendations)"
   ]
  },
  {
   "cell_type": "code",
   "execution_count": 15,
   "id": "a78796d6-51b9-4c2d-830d-a156c07e368c",
   "metadata": {},
   "outputs": [
    {
     "name": "stdout",
     "output_type": "stream",
     "text": [
      "       userId                                              title      note\n",
      "2942     1000                        Boondock Saints, The (2000)  4.992041\n",
      "562      1000                                   Gladiator (2000)  4.920841\n",
      "1809     1000                      Dark Knight Rises, The (2012)  4.920187\n",
      "12       1000                   Shawshank Redemption, The (1994)  4.906998\n",
      "172      1000                                  Braveheart (1995)  4.832492\n",
      "3719     1000                                   Gladiator (1992)  4.825395\n",
      "2599     1000                                Intouchables (2011)  4.812233\n",
      "1725     1000                               Notebook, The (2004)  4.795047\n",
      "1317     1000                           Good Will Hunting (1997)  4.794791\n",
      "306      1000                          American History X (1998)  4.773540\n",
      "359      1000                                Forrest Gump (1994)  4.771473\n",
      "1232     1000                               Love Actually (2003)  4.769917\n",
      "4        1000                         Usual Suspects, The (1995)  4.758938\n",
      "2988     1000  Girl Who Played with Fire, The (Flickan som le...  4.736608\n",
      "614      1000                              Ocean's Eleven (2001)  4.725449\n",
      "1865     1000                       Bourne Supremacy, The (2004)  4.723354\n",
      "111      1000                                      Snatch (2000)  4.715825\n",
      "2857     1000                             Life as a House (2001)  4.714925\n",
      "10515    1000                               Prime Suspect (1991)  4.711678\n",
      "5596     1000        Love Me If You Dare (Jeux d'enfants) (2003)  4.694550\n"
     ]
    }
   ],
   "source": [
    "user_id = 1000\n",
    "num_recommendations = 20\n",
    "top_recommendations_collab = recommandations_collab(user_id, num_recommendations)\n",
    "print(top_recommendations_collab)"
   ]
  },
  {
   "cell_type": "code",
   "execution_count": 339,
   "id": "7cfa08b1-af97-4116-bd71-c1ef0cbcd88d",
   "metadata": {},
   "outputs": [],
   "source": [
    "with open(\"../models/svd_model.pkl\", \"wb\") as f:\n",
    "    pickle.dump(svd, f)"
   ]
  },
  {
   "cell_type": "code",
   "execution_count": null,
   "id": "eb2d7c4c-543b-49e9-83f8-ffca45a7e55e",
   "metadata": {},
   "outputs": [],
   "source": []
  },
  {
   "cell_type": "code",
   "execution_count": 222,
   "id": "1b7b23e2-4580-432f-8aa9-e8a04cbc4c9f",
   "metadata": {},
   "outputs": [
    {
     "name": "stdout",
     "output_type": "stream",
     "text": [
      "       userId                                              title      note\n",
      "238      1000                              Godfather, The (1972)  4.926987\n",
      "260      1000                     Godfather: Part II, The (1974)  4.913250\n",
      "562      1000                                   Gladiator (2000)  4.882262\n",
      "1809     1000                      Dark Knight Rises, The (2012)  4.862237\n",
      "172      1000                                  Braveheart (1995)  4.840091\n",
      "1796     1000  Harry Potter and the Deathly Hallows: Part 1 (...  4.825624\n",
      "10458    1000                               Frozen Planet (2011)  4.820727\n",
      "12       1000                   Shawshank Redemption, The (1994)  4.818289\n",
      "9        1000          Star Wars: Episode IV - A New Hope (1977)  4.809208\n",
      "2612     1000                                Interstellar (2014)  4.800105\n"
     ]
    },
    {
     "name": "stdin",
     "output_type": "stream",
     "text": [
      "Êtes-vous satisfait de ces recommandations ? (Oui/Non):  non\n"
     ]
    },
    {
     "name": "stdout",
     "output_type": "stream",
     "text": [
      "   userId                                              title      note\n",
      "0    1000                              Godfather, The (1972)  4.926987\n",
      "1    1000  Harry Potter and the Deathly Hallows: Part 1 (...  4.825624\n",
      "2    1000                                   Gladiator (2000)  4.882262\n",
      "3    1000                               Frozen Planet (2011)  4.820727\n",
      "4    1000          Star Wars: Episode IV - A New Hope (1977)  4.809208\n",
      "5    1000                                Interstellar (2014)  4.800105\n",
      "6    1000                                  Braveheart (1995)  4.840091\n",
      "7    1000                      Dark Knight Rises, The (2012)  4.862237\n",
      "8    1000                     Godfather: Part II, The (1974)  4.913250\n",
      "9    1000                   Shawshank Redemption, The (1994)  4.818289\n"
     ]
    }
   ],
   "source": [
    "def generer_nouvelles_recommandations(recommandations, nb_recommandations=10):\n",
    "    # Convertir les recommandations en liste\n",
    "    recommandations_liste = recommandations.values.tolist()\n",
    "    # Mélanger aléatoirement les recommandations\n",
    "    random.shuffle(recommandations_liste)\n",
    "    # Sélectionner un sous-ensemble de recommandations\n",
    "    nouvelles_recommandations = recommandations_liste[:nb_recommandations]\n",
    "    # Convertir la liste en DataFrame\n",
    "    nouvelles_recommandations_df = pd.DataFrame(nouvelles_recommandations, columns=recommandations.columns)\n",
    "    return nouvelles_recommandations_df\n",
    "\n",
    "# Afficher les recommandations initiales\n",
    "top_recommendations_collab = recommandations_collab(user_id, num_recommendations)\n",
    "afficher_recommandations(top_recommendations_collab)\n",
    "\n",
    "# Recueillir le retour utilisateur\n",
    "satisfaction = input(\"Êtes-vous satisfait de ces recommandations ? (Oui/Non): \")\n",
    "\n",
    "if satisfaction.lower() == \"non\":\n",
    "    # Générer de nouvelles recommandations sans réentraîner le modèle\n",
    "    nouvelles_recommandations = generer_nouvelles_recommandations(top_recommendations_collab)\n",
    "    # Afficher les nouvelles recommandations\n",
    "    afficher_recommandations(nouvelles_recommandations)\n"
   ]
  },
  {
   "cell_type": "code",
   "execution_count": 82,
   "id": "95cac69e-1bd5-4287-8ea3-a3e9b78aed1c",
   "metadata": {},
   "outputs": [],
   "source": [
    "from sklearn.preprocessing import MinMaxScaler\n",
    "def recommandations_hybride(user_id, titre, num_recommendations=10, alpha=0.8, n=100):\n",
    "\n",
    "    scaler = MinMaxScaler()\n",
    "    # Obtenir les recommandations basées sur le contenu\n",
    "    rec_content = recommandations_content(titre, sim_euclidienne, num_recommendations*n)\n",
    "    rec_content = rec_content.set_index('title')\n",
    "    rec_content = rec_content.rename(columns={'score': 'score_content'})\n",
    "    rec_content['score_content'] = scaler.fit_transform(rec_content[['score_content']])\n",
    "    print(\"Recommandations basées sur le contenu pour '{}':\\n{}\".format(titre, rec_content.head(10)))\n",
    "\n",
    "    # Obtenir les recommandations basées sur le filtrage collaboratif\n",
    "    rec_collab = recommandations_collab(user_id, num_recommendations*n)\n",
    "    rec_collab = rec_collab.set_index('title')\n",
    "    rec_collab = rec_collab.rename(columns={'note': 'score_collab'})\n",
    "    rec_collab['score_collab'] = scaler.fit_transform(rec_collab[['score_collab']])\n",
    "    print(\"Recommandations collaboratives pour l'utilisateur {}:\\n{}\".format(user_id, rec_collab.head(10)))\n",
    "    \n",
    "    # Fusionner les scores\n",
    "    rec_combined = rec_content.join(rec_collab, how='outer').fillna(0)\n",
    "    rec_combined['score'] = (alpha * rec_combined['score_content']) +((1 - alpha) * rec_combined['score_collab'])\n",
    "\n",
    "    # Trier et retourner les recommandations\n",
    "    rec_combined = rec_combined.sort_values('score', ascending=False)\n",
    "    rec_combined = rec_combined[['score_content', 'score_collab', 'score']].reset_index()\n",
    "    return rec_combined.head(num_recommendations)"
   ]
  },
  {
   "cell_type": "code",
   "execution_count": 83,
   "id": "ae2501d8-98cd-46ba-ae43-278df6f54035",
   "metadata": {},
   "outputs": [
    {
     "name": "stdout",
     "output_type": "stream",
     "text": [
      "Recommandations basées sur le contenu pour 'Braveheart (1995)':\n",
      "                            score_content\n",
      "title                                    \n",
      "Spartacus (1960)                 1.000000\n",
      "Lawrence of Arabia (1962)        0.905894\n",
      "Patton (1970)                    0.850188\n",
      "Black Hawk Down (2001)           0.787831\n",
      "Saving Private Ryan (1998)       0.764393\n",
      "Rob Roy (1995)                   0.738802\n",
      "Gladiator (2000)                 0.697220\n",
      "Doctor Zhivago (1965)            0.690153\n",
      "Dances with Wolves (1990)        0.670720\n",
      "Last Emperor, The (1987)         0.631900\n",
      "Recommandations collaboratives pour l'utilisateur 1000:\n",
      "                                  userId  score_collab\n",
      "title                                                 \n",
      "Boondock Saints, The (2000)         1000      1.000000\n",
      "Gladiator (2000)                    1000      0.904196\n",
      "Dark Knight Rises, The (2012)       1000      0.903316\n",
      "Shawshank Redemption, The (1994)    1000      0.885570\n",
      "Braveheart (1995)                   1000      0.785317\n",
      "Gladiator (1992)                    1000      0.775768\n",
      "Intouchables (2011)                 1000      0.758058\n",
      "Notebook, The (2004)                1000      0.734932\n",
      "Good Will Hunting (1997)            1000      0.734588\n",
      "American History X (1998)           1000      0.705993\n",
      "Recommandations hybrides pour 'Braveheart (1995)':\n",
      "                        title  score_content  score_collab     score\n",
      "0            Spartacus (1960)       1.000000      0.000000  0.800000\n",
      "1            Gladiator (2000)       0.697220      0.904196  0.738615\n",
      "2   Lawrence of Arabia (1962)       0.905894      0.000000  0.724715\n",
      "3  Saving Private Ryan (1998)       0.764393      0.491436  0.709802\n",
      "4               Patton (1970)       0.850188      0.000000  0.680150\n",
      "5      Black Hawk Down (2001)       0.787831      0.000000  0.630265\n",
      "6              Rob Roy (1995)       0.738802      0.000000  0.591042\n",
      "7   Dances with Wolves (1990)       0.670720      0.146488  0.565874\n",
      "8       Doctor Zhivago (1965)       0.690153      0.046749  0.561472\n",
      "9     Schindler's List (1993)       0.531471      0.449555  0.515088\n"
     ]
    }
   ],
   "source": [
    "user_id = 1000\n",
    "titre = \"Braveheart (1995)\"\n",
    "num_recommendations = 10\n",
    "recommandations_final = recommandations_hybride(user_id, titre, num_recommendations, alpha=0.8)\n",
    "print(\"Recommandations hybrides pour '{}':\\n{}\".format(titre, recommandations_final))\n"
   ]
  },
  {
   "cell_type": "code",
   "execution_count": 84,
   "id": "ce2b4939-b416-492f-8f08-b778f2782109",
   "metadata": {},
   "outputs": [
    {
     "name": "stdout",
     "output_type": "stream",
     "text": [
      "Recommandations basées sur le contenu pour 'Toy Story (1995)':\n",
      "                                                    score_content\n",
      "title                                                            \n",
      "Toy Story 2 (1999)                                       1.000000\n",
      "Monsters, Inc. (2001)                                    0.529893\n",
      "Cars (2006)                                              0.433471\n",
      "Adventures of Ichabod and Mr. Toad, The (1949)           0.360728\n",
      "Pinocchio (1940)                                         0.341064\n",
      "Finding Nemo (2003)                                      0.321429\n",
      "101 Dalmatians (One Hundred and One Dalmatians)...       0.307143\n",
      "Toy Story of Terror (2013)                               0.305799\n",
      "Beauty and the Beast (1991)                              0.293408\n",
      "Shrek (2001)                                             0.288695\n",
      "Recommandations collaboratives pour l'utilisateur 1000:\n",
      "                                  userId  score_collab\n",
      "title                                                 \n",
      "Boondock Saints, The (2000)         1000      1.000000\n",
      "Gladiator (2000)                    1000      0.904196\n",
      "Dark Knight Rises, The (2012)       1000      0.903316\n",
      "Shawshank Redemption, The (1994)    1000      0.885570\n",
      "Braveheart (1995)                   1000      0.785317\n",
      "Gladiator (1992)                    1000      0.775768\n",
      "Intouchables (2011)                 1000      0.758058\n",
      "Notebook, The (2004)                1000      0.734932\n",
      "Good Will Hunting (1997)            1000      0.734588\n",
      "American History X (1998)           1000      0.705993\n",
      "Recommandations hybrides pour 'Toy Story (1995)':\n",
      "                                               title  score_content  \\\n",
      "0                                 Toy Story 2 (1999)       1.000000   \n",
      "1                              Monsters, Inc. (2001)       0.529893   \n",
      "2                                        Cars (2006)       0.433471   \n",
      "3                                       Shrek (2001)       0.288695   \n",
      "4     Adventures of Ichabod and Mr. Toad, The (1949)       0.360728   \n",
      "5                                   Pinocchio (1940)       0.341064   \n",
      "6                    How to Train Your Dragon (2010)       0.270616   \n",
      "7                                Finding Nemo (2003)       0.321429   \n",
      "8  101 Dalmatians (One Hundred and One Dalmatians...       0.307143   \n",
      "9                         Toy Story of Terror (2013)       0.305799   \n",
      "\n",
      "   score_collab     score  \n",
      "0      0.000000  0.800000  \n",
      "1      0.000000  0.423915  \n",
      "2      0.000000  0.346777  \n",
      "3      0.315083  0.293973  \n",
      "4      0.000000  0.288582  \n",
      "5      0.000000  0.272851  \n",
      "6      0.278195  0.272132  \n",
      "7      0.000000  0.257143  \n",
      "8      0.000000  0.245714  \n",
      "9      0.000000  0.244639  \n"
     ]
    }
   ],
   "source": [
    "user_id = 1000\n",
    "titre = \"Toy Story (1995)\"\n",
    "num_recommendations = 10\n",
    "recommandations_final = recommandations_hybride(user_id, titre, num_recommendations, alpha=0.8)\n",
    "print(\"Recommandations hybrides pour '{}':\\n{}\".format(titre, recommandations_final))\n"
   ]
  },
  {
   "cell_type": "code",
   "execution_count": null,
   "id": "d01ac63e-6f05-494d-b6a8-461affe7f513",
   "metadata": {},
   "outputs": [],
   "source": []
  }
 ],
 "metadata": {
  "kernelspec": {
   "display_name": "movie_kernel",
   "language": "python",
   "name": "movie_kernel"
  },
  "language_info": {
   "codemirror_mode": {
    "name": "ipython",
    "version": 3
   },
   "file_extension": ".py",
   "mimetype": "text/x-python",
   "name": "python",
   "nbconvert_exporter": "python",
   "pygments_lexer": "ipython3",
   "version": "3.12.2"
  }
 },
 "nbformat": 4,
 "nbformat_minor": 5
}
