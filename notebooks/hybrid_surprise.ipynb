{
 "cells": [
  {
   "cell_type": "code",
   "execution_count": 152,
   "id": "d4ede914-7b45-4716-9516-5068a17e164b",
   "metadata": {},
   "outputs": [],
   "source": [
    "import pandas as pd\n",
    "import pickle\n",
    "import random\n",
    "from sklearn.feature_extraction.text import TfidfVectorizer\n",
    "from sklearn.metrics.pairwise import cosine_similarity, euclidean_distances\n",
    "from surprise import Reader, Dataset\n",
    "from surprise import SVD\n",
    "from surprise.model_selection import cross_validate"
   ]
  },
  {
   "cell_type": "code",
   "execution_count": 150,
   "id": "bfc9bf3f-0145-459e-84d9-fcd6b2f49d5b",
   "metadata": {},
   "outputs": [],
   "source": [
    "# Content-Based filtering\n",
    "df_content_tags = pd.read_csv(\"../data/interim/movies_tags.csv\")\n",
    "df_content_tags.dropna(subset=['all_tags'], inplace=True)\n",
    "tfidf = TfidfVectorizer()\n",
    "matrice_tfidf = tfidf.fit_transform(df_content_tags['all_tags'])\n",
    "sim_cosinus = cosine_similarity(matrice_tfidf, matrice_tfidf)\n",
    "sim_euclidienne = 1 / (1 + euclidean_distances(matrice_tfidf))\n",
    "indices = pd.Series(range(0,len(df_content_tags)), index=df_content_tags.title)\n",
    "\n",
    "def recommandations_content(titre, cos_sim, num_recommendations=10):\n",
    "    idx = indices[titre]\n",
    "    scores_similarite = list(enumerate(cos_sim[idx]))\n",
    "    scores_similarite = sorted(scores_similarite, key=lambda x: x[1], reverse=True)\n",
    "    top_similair = scores_similarite[1:num_recommendations+1]\n",
    "    res = [(indices.index[idx], score) for idx, score in top_similair]\n",
    "    res = pd.DataFrame(res)\n",
    "    res = res.rename(columns={0: 'title', 1: 'score'})\n",
    "    return res"
   ]
  },
  {
   "cell_type": "code",
   "execution_count": 153,
   "id": "4e0f557e-5941-4a8c-a522-717ac5f1438e",
   "metadata": {
    "scrolled": true
   },
   "outputs": [
    {
     "name": "stdout",
     "output_type": "stream",
     "text": [
      "(27053, 7877)\n",
      "                                               title     score\n",
      "0                                 Toy Story 2 (1999)  0.574920\n",
      "1                              Monsters, Inc. (2001)  0.401519\n",
      "2                                        Cars (2006)  0.357911\n",
      "3     Adventures of Ichabod and Mr. Toad, The (1949)  0.322854\n",
      "4                                   Pinocchio (1940)  0.313041\n",
      "5                                Finding Nemo (2003)  0.303094\n",
      "6  101 Dalmatians (One Hundred and One Dalmatians...  0.295764\n",
      "7                         Toy Story of Terror (2013)  0.295070\n",
      "8                        Beauty and the Beast (1991)  0.288640\n",
      "9                                       Shrek (2001)  0.286178\n"
     ]
    }
   ],
   "source": [
    "print(matrice_tfidf.shape)\n",
    "print(recommandations_content(\"Toy Story (1995)\", sim_cosinus))"
   ]
  },
  {
   "cell_type": "code",
   "execution_count": 154,
   "id": "f7683b36-2e70-4b17-a782-a9ad90759146",
   "metadata": {},
   "outputs": [
    {
     "name": "stdout",
     "output_type": "stream",
     "text": [
      "Evaluating RMSE, MAE of algorithm SVD on 5 split(s).\n",
      "\n",
      "                  Fold 1  Fold 2  Fold 3  Fold 4  Fold 5  Mean    Std     \n",
      "RMSE (testset)    0.7858  0.7866  0.7867  0.7856  0.7857  0.7861  0.0005  \n",
      "MAE (testset)     0.5979  0.5985  0.5984  0.5977  0.5979  0.5981  0.0003  \n",
      "Fit time          129.50  113.54  128.29  116.93  137.88  125.23  8.87    \n",
      "Test time         130.24  93.50   92.29   101.22  144.64  112.38  21.19   \n"
     ]
    },
    {
     "data": {
      "text/plain": [
       "{'test_rmse': array([0.78579304, 0.78657816, 0.7866648 , 0.7856002 , 0.78571269]),\n",
       " 'test_mae': array([0.59791224, 0.59849625, 0.59841682, 0.59771227, 0.59786458]),\n",
       " 'fit_time': (129.49917697906494,\n",
       "  113.54407215118408,\n",
       "  128.2946548461914,\n",
       "  116.93467712402344,\n",
       "  137.88201713562012),\n",
       " 'test_time': (130.24111986160278,\n",
       "  93.49926328659058,\n",
       "  92.2891640663147,\n",
       "  101.21671915054321,\n",
       "  144.64489603042603)}"
      ]
     },
     "execution_count": 154,
     "metadata": {},
     "output_type": "execute_result"
    }
   ],
   "source": [
    "# Collaborative filtering\n",
    "df_ratings = pd.read_csv(\"../data/raw/ratings.csv\")\n",
    "df_ratings = df_ratings.drop(\"timestamp\", axis=1)\n",
    "df_movies = pd.read_csv(\"../data/raw/movies.csv\")\n",
    "reader = Reader(rating_scale=(0, 5))\n",
    "df_surprise = Dataset.load_from_df(df_ratings, reader=reader)\n",
    "\n",
    "svd = SVD()\n",
    "cross_validate(svd, df_surprise,measures=['RMSE', 'MAE'], cv=5, verbose=True )\n"
   ]
  },
  {
   "cell_type": "code",
   "execution_count": 155,
   "id": "16a5fdab-b0ea-4edf-ac6d-809c0ad171fb",
   "metadata": {},
   "outputs": [
    {
     "data": {
      "text/plain": [
       "<surprise.prediction_algorithms.matrix_factorization.SVD at 0x138748260>"
      ]
     },
     "execution_count": 155,
     "metadata": {},
     "output_type": "execute_result"
    }
   ],
   "source": [
    "train_set = df_surprise.build_full_trainset()\n",
    "svd.fit(train_set)"
   ]
  },
  {
   "cell_type": "code",
   "execution_count": 175,
   "id": "2a431ee6-2712-4a8f-ab5e-841581bd75bc",
   "metadata": {},
   "outputs": [],
   "source": [
    "def recommandations_collab(user_id, num_recommendations=10, start_index=0):\n",
    "    # Générer l'anti-test set pour l'utilisateur cible\n",
    "    anti_testset = []\n",
    "    targetUser = train_set.to_inner_uid(user_id)\n",
    "    moyenne = train_set.global_mean\n",
    "    user_note = train_set.ur[targetUser]\n",
    "    user_livre = [item for (item, _) in user_note]\n",
    "\n",
    "    for livre in train_set.all_items():\n",
    "        if livre not in user_livre:\n",
    "            anti_testset.append((user_id, train_set.to_raw_iid(livre), moyenne))\n",
    "\n",
    "    # Effectuer les prédictions\n",
    "    predictionsSVD = svd.test(anti_testset)\n",
    "    predictionsSVD = pd.DataFrame(predictionsSVD)\n",
    "\n",
    "    # Mapper les IDs de films aux titres\n",
    "    df_movies = pd.read_csv(\"../data/raw/movies.csv\")\n",
    "    movieId_title_map = df_movies.set_index('movieId')['title'].to_dict()\n",
    "    predictionsSVD['title'] = predictionsSVD['iid'].map(movieId_title_map)\n",
    "\n",
    "    # Renommer les colonnes et trier par note estimée\n",
    "    predictionsSVD = predictionsSVD.rename(columns={'uid': 'userId', 'est': 'note'})\n",
    "    predictionsSVD = predictionsSVD[['userId', 'title', 'note']]\n",
    "    predictionsSVD.sort_values('note', ascending=False, inplace=True)\n",
    "\n",
    "    # Retourner les top N recommandations\n",
    "    return predictionsSVD.iloc[start_index:start_index + num_recommendations]"
   ]
  },
  {
   "cell_type": "code",
   "execution_count": 134,
   "id": "1a8d5537-2e16-4052-a902-c01a54e89d7e",
   "metadata": {},
   "outputs": [],
   "source": [
    "with open(\"../models/svd_model.pkl\", \"rb\") as filehandler:\n",
    "        svd_model = pickle.load(filehandler)\n"
   ]
  },
  {
   "cell_type": "code",
   "execution_count": 176,
   "id": "a78796d6-51b9-4c2d-830d-a156c07e368c",
   "metadata": {},
   "outputs": [
    {
     "name": "stdout",
     "output_type": "stream",
     "text": [
      "       userId                                              title      note\n",
      "12       1000                   Shawshank Redemption, The (1994)  4.992657\n",
      "10458    1000                               Frozen Planet (2011)  4.839372\n",
      "172      1000                                  Braveheart (1995)  4.821065\n",
      "562      1000                                   Gladiator (2000)  4.809198\n",
      "1809     1000                      Dark Knight Rises, The (2012)  4.793414\n",
      "359      1000                                Forrest Gump (1994)  4.753796\n",
      "9        1000          Star Wars: Episode IV - A New Hope (1977)  4.731386\n",
      "640      1000                            Schindler's List (1993)  4.716473\n",
      "3719     1000                                   Gladiator (1992)  4.713671\n",
      "1813     1000                     Star Trek Into Darkness (2013)  4.707517\n",
      "306      1000                          American History X (1998)  4.705204\n",
      "30       1000  Star Wars: Episode V - The Empire Strikes Back...  4.696736\n",
      "2955     1000                        Battlestar Galactica (2003)  4.692232\n",
      "3        1000                        Seven (a.k.a. Se7en) (1995)  4.681164\n",
      "4        1000                         Usual Suspects, The (1995)  4.679545\n",
      "2599     1000                                Intouchables (2011)  4.678799\n",
      "1807     1000                               Avengers, The (2012)  4.677890\n",
      "2621     1000                          The Imitation Game (2014)  4.673673\n",
      "12758    1000                                     The War (2007)  4.659965\n",
      "2942     1000                        Boondock Saints, The (2000)  4.654606\n"
     ]
    }
   ],
   "source": [
    "user_id = 1000\n",
    "num_recommendations = 20\n",
    "top_recommendations_collab = recommandations_collab(user_id, num_recommendations)\n",
    "print(top_recommendations_collab)"
   ]
  },
  {
   "cell_type": "code",
   "execution_count": 160,
   "id": "95cac69e-1bd5-4287-8ea3-a3e9b78aed1c",
   "metadata": {},
   "outputs": [],
   "source": [
    "from sklearn.preprocessing import MinMaxScaler\n",
    "def recommandations_hybride(user_id, titre, num_recommendations=10, alpha=0.8, n=1000):\n",
    "\n",
    "    scaler = MinMaxScaler()\n",
    "    # Obtenir les recommandations basées sur le contenu\n",
    "    rec_content = recommandations_content(titre, sim_euclidienne, num_recommendations*n)\n",
    "    rec_content = rec_content.set_index('title')\n",
    "    rec_content = rec_content.rename(columns={'score': 'score_content'})\n",
    "    rec_content['score_content'] = scaler.fit_transform(rec_content[['score_content']])\n",
    "    print(\"Recommandations basées sur le contenu pour '{}':\\n{}\".format(titre, rec_content.head(10)))\n",
    "\n",
    "    # Obtenir les recommandations basées sur le filtrage collaboratif\n",
    "    rec_collab = collab_reco(user_id, num_recommendations*n)\n",
    "    rec_collab = rec_collab.set_index('title')\n",
    "    rec_collab = rec_collab.rename(columns={'note': 'score_collab'})\n",
    "    rec_collab['score_collab'] = scaler.fit_transform(rec_collab[['score_collab']])\n",
    "    print(\"Recommandations collaboratives pour l'utilisateur {}:\\n{}\".format(user_id, rec_collab.head(10)))\n",
    "    \n",
    "    # Fusionner les scores\n",
    "    rec_combined = rec_content.join(rec_collab, how='outer').fillna(0)\n",
    "    rec_combined['score'] = (alpha * rec_combined['score_content']) +((1 - alpha) * rec_combined['score_collab'])\n",
    "\n",
    "    # Trier et retourner les recommandations\n",
    "    rec_combined = rec_combined.sort_values('score', ascending=False)\n",
    "    rec_combined = rec_combined[['score_content', 'score_collab', 'score']].reset_index()\n",
    "    return rec_combined.head(num_recommendations)"
   ]
  },
  {
   "cell_type": "code",
   "execution_count": 161,
   "id": "ae2501d8-98cd-46ba-ae43-278df6f54035",
   "metadata": {},
   "outputs": [
    {
     "name": "stdout",
     "output_type": "stream",
     "text": [
      "Recommandations basées sur le contenu pour 'Braveheart (1995)':\n",
      "                            score_content\n",
      "title                                    \n",
      "Spartacus (1960)                 1.000000\n",
      "Lawrence of Arabia (1962)        0.926684\n",
      "Patton (1970)                    0.883285\n",
      "Black Hawk Down (2001)           0.834704\n",
      "Saving Private Ryan (1998)       0.816444\n",
      "Rob Roy (1995)                   0.796507\n",
      "Gladiator (2000)                 0.764112\n",
      "Doctor Zhivago (1965)            0.758606\n",
      "Dances with Wolves (1990)        0.743466\n",
      "Last Emperor, The (1987)         0.713222\n",
      "Recommandations collaboratives pour l'utilisateur 1000:\n",
      "                                                    userId  score_collab\n",
      "title                                                                   \n",
      "Interstellar (2014)                                   1000      1.000000\n",
      "Dark Knight Rises, The (2012)                         1000      0.986494\n",
      "Shawshank Redemption, The (1994)                      1000      0.980251\n",
      "Boondock Saints, The (2000)                           1000      0.932458\n",
      "Louis C.K.: Shameless (2007)                          1000      0.889196\n",
      "Louis C.K.: Hilarious (2010)                          1000      0.851460\n",
      "Frozen Planet (2011)                                  1000      0.843104\n",
      "Hero (Ying xiong) (2002)                              1000      0.832244\n",
      "Usual Suspects, The (1995)                            1000      0.830948\n",
      "Girl Who Kicked the Hornet's Nest, The (Luftslo...    1000      0.813027\n",
      "Recommandations hybrides pour 'Braveheart (1995)':\n",
      "                        title  score_content  score_collab     score\n",
      "0            Spartacus (1960)       1.000000      0.068951  0.813790\n",
      "1            Gladiator (2000)       0.764112      0.779613  0.767212\n",
      "2   Lawrence of Arabia (1962)       0.926684      0.041708  0.749689\n",
      "3  Saving Private Ryan (1998)       0.816444      0.479738  0.749103\n",
      "4               Patton (1970)       0.883285      0.022422  0.711113\n",
      "5      Black Hawk Down (2001)       0.834704      0.094610  0.686685\n",
      "6     Schindler's List (1993)       0.634981      0.682187  0.644422\n",
      "7              Rob Roy (1995)       0.796507      0.000000  0.637206\n",
      "8       Doctor Zhivago (1965)       0.758606      0.048424  0.616569\n",
      "9   Dances with Wolves (1990)       0.743466      0.003106  0.595394\n"
     ]
    }
   ],
   "source": [
    "user_id = 1000\n",
    "titre = \"Braveheart (1995)\"\n",
    "num_recommendations = 10\n",
    "recommandations_final = recommandations_hybride(user_id, titre, num_recommendations, alpha=0.8)\n",
    "print(\"Recommandations hybrides pour '{}':\\n{}\".format(titre, recommandations_final))\n"
   ]
  },
  {
   "cell_type": "code",
   "execution_count": 162,
   "id": "ce2b4939-b416-492f-8f08-b778f2782109",
   "metadata": {},
   "outputs": [
    {
     "name": "stdout",
     "output_type": "stream",
     "text": [
      "Recommandations basées sur le contenu pour 'Toy Story (1995)':\n",
      "                                                    score_content\n",
      "title                                                            \n",
      "Toy Story 2 (1999)                                       1.000000\n",
      "Monsters, Inc. (2001)                                    0.585150\n",
      "Cars (2006)                                              0.500061\n",
      "Adventures of Ichabod and Mr. Toad, The (1949)           0.435868\n",
      "Pinocchio (1940)                                         0.418515\n",
      "Finding Nemo (2003)                                      0.401188\n",
      "101 Dalmatians (One Hundred and One Dalmatians)...       0.388581\n",
      "Toy Story of Terror (2013)                               0.387395\n",
      "Beauty and the Beast (1991)                              0.376461\n",
      "Shrek (2001)                                             0.372302\n",
      "Recommandations collaboratives pour l'utilisateur 1000:\n",
      "                                                    userId  score_collab\n",
      "title                                                                   \n",
      "Interstellar (2014)                                   1000      1.000000\n",
      "Dark Knight Rises, The (2012)                         1000      0.986494\n",
      "Shawshank Redemption, The (1994)                      1000      0.980251\n",
      "Boondock Saints, The (2000)                           1000      0.932458\n",
      "Louis C.K.: Shameless (2007)                          1000      0.889196\n",
      "Louis C.K.: Hilarious (2010)                          1000      0.851460\n",
      "Frozen Planet (2011)                                  1000      0.843104\n",
      "Hero (Ying xiong) (2002)                              1000      0.832244\n",
      "Usual Suspects, The (1995)                            1000      0.830948\n",
      "Girl Who Kicked the Hornet's Nest, The (Luftslo...    1000      0.813027\n",
      "Recommandations hybrides pour 'Toy Story (1995)':\n",
      "                                            title  score_content  \\\n",
      "0                              Toy Story 2 (1999)       1.000000   \n",
      "1                           Monsters, Inc. (2001)       0.585150   \n",
      "2                                     Cars (2006)       0.500061   \n",
      "3                 How to Train Your Dragon (2010)       0.356348   \n",
      "4                             Finding Nemo (2003)       0.401188   \n",
      "5                                    Shrek (2001)       0.372302   \n",
      "6                         Incredibles, The (2004)       0.359941   \n",
      "7                      Toy Story of Terror (2013)       0.387395   \n",
      "8  Adventures of Ichabod and Mr. Toad, The (1949)       0.435868   \n",
      "9                                Pinocchio (1940)       0.418515   \n",
      "\n",
      "   score_collab     score  \n",
      "0      0.087693  0.817539  \n",
      "1      0.366848  0.541489  \n",
      "2      0.124640  0.424976  \n",
      "3      0.692922  0.423663  \n",
      "4      0.427212  0.406393  \n",
      "5      0.470982  0.392038  \n",
      "6      0.456872  0.379327  \n",
      "7      0.284021  0.366720  \n",
      "8      0.000000  0.348694  \n",
      "9      0.000000  0.334812  \n"
     ]
    }
   ],
   "source": [
    "user_id = 1000\n",
    "titre = \"Toy Story (1995)\"\n",
    "num_recommendations = 10\n",
    "recommandations_final = recommandations_hybride(user_id, titre, num_recommendations, alpha=0.8)\n",
    "print(\"Recommandations hybrides pour '{}':\\n{}\".format(titre, recommandations_final))\n"
   ]
  },
  {
   "cell_type": "code",
   "execution_count": 179,
   "id": "737b984a-804c-4f1b-9197-76ee67afb646",
   "metadata": {},
   "outputs": [
    {
     "name": "stdout",
     "output_type": "stream",
     "text": [
      "       userId                                      title      note\n",
      "12       1000           Shawshank Redemption, The (1994)  4.992657\n",
      "10458    1000                       Frozen Planet (2011)  4.839372\n",
      "172      1000                          Braveheart (1995)  4.821065\n",
      "562      1000                           Gladiator (2000)  4.809198\n",
      "1809     1000              Dark Knight Rises, The (2012)  4.793414\n",
      "359      1000                        Forrest Gump (1994)  4.753796\n",
      "9        1000  Star Wars: Episode IV - A New Hope (1977)  4.731386\n",
      "640      1000                    Schindler's List (1993)  4.716473\n",
      "3719     1000                           Gladiator (1992)  4.713671\n",
      "1813     1000             Star Trek Into Darkness (2013)  4.707517\n"
     ]
    },
    {
     "name": "stdin",
     "output_type": "stream",
     "text": [
      "Êtes-vous satisfait de ces recommandations ? (Oui/Non):  non\n"
     ]
    },
    {
     "name": "stdout",
     "output_type": "stream",
     "text": [
      "       userId                                              title      note\n",
      "306      1000                          American History X (1998)  4.705204\n",
      "30       1000  Star Wars: Episode V - The Empire Strikes Back...  4.696736\n",
      "2955     1000                        Battlestar Galactica (2003)  4.692232\n",
      "3        1000                        Seven (a.k.a. Se7en) (1995)  4.681164\n",
      "4        1000                         Usual Suspects, The (1995)  4.679545\n",
      "2599     1000                                Intouchables (2011)  4.678799\n",
      "1807     1000                               Avengers, The (2012)  4.677890\n",
      "2621     1000                          The Imitation Game (2014)  4.673673\n",
      "12758    1000                                     The War (2007)  4.659965\n",
      "2942     1000                        Boondock Saints, The (2000)  4.654606\n"
     ]
    }
   ],
   "source": [
    "def generer_nouvelles_recommandations(top_recommendations_collab):\n",
    "\n",
    "    start_index = len(top_recommendations_collab)\n",
    "    nouvelles_recommandations = recommandations_collab(user_id, num_recommendations, start_index)\n",
    "    \n",
    "    return nouvelles_recommandations\n",
    "\n",
    "user_id = 1000\n",
    "num_recommendations = 10\n",
    "top_recommendations_collab = recommandations_collab(user_id, num_recommendations)\n",
    "print(top_recommendations_collab)\n",
    "satisfaction = input(\"Êtes-vous satisfait de ces recommandations ? (Oui/Non): \")\n",
    "\n",
    "if satisfaction.lower() == \"non\":\n",
    "    nouvelles_recommandations = generer_nouvelles_recommandations(top_recommendations_collab)\n",
    "    print(nouvelles_recommandations)\n"
   ]
  },
  {
   "cell_type": "code",
   "execution_count": 192,
   "id": "37cd6260-e56a-4eb3-bcbd-d0d347ab0c98",
   "metadata": {},
   "outputs": [],
   "source": [
    "from surprise.model_selection import GridSearchCV\n",
    "\n",
    "param_grid = {'n_factors': [50, 100, 150],\n",
    "              'n_epochs': [20, 30, 40],\n",
    "              'lr_all': [0.005, 0.01, 0.015],\n",
    "              'reg_all': [0.02, 0.04, 0.06]}\n",
    "svd = SVD()\n",
    "grid_search = GridSearchCV(SVD, param_grid, measures=['rmse'], cv=3)\n",
    "  "
   ]
  },
  {
   "cell_type": "code",
   "execution_count": null,
   "id": "51ddba06-8f08-4dc2-8e04-3255f6c7d763",
   "metadata": {},
   "outputs": [],
   "source": [
    "grid_search.fit(df_surprise)    "
   ]
  },
  {
   "cell_type": "code",
   "execution_count": null,
   "id": "166a035a-ce03-4674-bef0-de4a73aaf0ec",
   "metadata": {},
   "outputs": [],
   "source": []
  }
 ],
 "metadata": {
  "kernelspec": {
   "display_name": "movie_kernel",
   "language": "python",
   "name": "movie_kernel"
  },
  "language_info": {
   "codemirror_mode": {
    "name": "ipython",
    "version": 3
   },
   "file_extension": ".py",
   "mimetype": "text/x-python",
   "name": "python",
   "nbconvert_exporter": "python",
   "pygments_lexer": "ipython3",
   "version": "3.12.2"
  }
 },
 "nbformat": 4,
 "nbformat_minor": 5
}
