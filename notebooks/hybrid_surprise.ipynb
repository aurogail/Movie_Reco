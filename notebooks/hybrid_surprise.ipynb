{
 "cells": [
  {
   "cell_type": "code",
   "execution_count": 1,
   "id": "d4ede914-7b45-4716-9516-5068a17e164b",
   "metadata": {},
   "outputs": [],
   "source": [
    "import pandas as pd\n",
    "from sklearn.feature_extraction.text import TfidfVectorizer\n",
    "from sklearn.metrics.pairwise import cosine_similarity, euclidean_distances\n",
    "from surprise import Reader, Dataset\n",
    "from surprise import SVD\n",
    "from surprise.model_selection import cross_validate"
   ]
  },
  {
   "cell_type": "code",
   "execution_count": 2,
   "id": "bfc9bf3f-0145-459e-84d9-fcd6b2f49d5b",
   "metadata": {},
   "outputs": [],
   "source": [
    "# Content-Based filtering\n",
    "df_content_tags = pd.read_csv(\"../data/interim/movies_tags.csv\")\n",
    "tfidf = TfidfVectorizer()\n",
    "matrice_tfidf = tfidf.fit_transform(df_content_tags['tags'])\n",
    "sim_cosinus = cosine_similarity(matrice_tfidf, matrice_tfidf)\n",
    "sim_euclidienne = 1 / (1 + euclidean_distances(matrice_tfidf))\n",
    "indices = pd.Series(range(0,len(df_content_tags)), index=df_content_tags.title)\n",
    "\n",
    "def recommandations_content(titre, cos_sim, num_recommendations=10):\n",
    "    idx = indices[titre]\n",
    "    scores_similarite = list(enumerate(cos_sim[idx]))\n",
    "    scores_similarite = sorted(scores_similarite, key=lambda x: x[1], reverse=True)\n",
    "    top_similair = scores_similarite[1:num_recommendations+1]\n",
    "    res = [(indices.index[idx], score) for idx, score in top_similair]\n",
    "    res = pd.DataFrame(res)\n",
    "    res = res.rename(columns={0: 'title', 1: 'score'})\n",
    "    return res"
   ]
  },
  {
   "cell_type": "code",
   "execution_count": 3,
   "id": "4e0f557e-5941-4a8c-a522-717ac5f1438e",
   "metadata": {
    "scrolled": true
   },
   "outputs": [
    {
     "name": "stdout",
     "output_type": "stream",
     "text": [
      "(27278, 23964)\n",
      "                               title     score\n",
      "0                 Toy Story 2 (1999)  0.579080\n",
      "1                Finding Nemo (2003)  0.350542\n",
      "2                   Pinocchio (1940)  0.324236\n",
      "3               Bug's Life, A (1998)  0.320946\n",
      "4                        Cars (2006)  0.305336\n",
      "5        Beauty and the Beast (1991)  0.298094\n",
      "6  Toy Story That Time Forgot (2014)  0.291482\n",
      "7              Monsters, Inc. (2001)  0.278960\n",
      "8                 Ratatouille (2007)  0.276444\n",
      "9              Lion King, The (1994)  0.276129\n"
     ]
    }
   ],
   "source": [
    "print(matrice_tfidf.shape)\n",
    "print(recommandations_content(\"Toy Story (1995)\", sim_cosinus))"
   ]
  },
  {
   "cell_type": "code",
   "execution_count": 4,
   "id": "f7683b36-2e70-4b17-a782-a9ad90759146",
   "metadata": {},
   "outputs": [
    {
     "name": "stdout",
     "output_type": "stream",
     "text": [
      "Evaluating RMSE, MAE of algorithm SVD on 5 split(s).\n",
      "\n",
      "                  Fold 1  Fold 2  Fold 3  Fold 4  Fold 5  Mean    Std     \n",
      "RMSE (testset)    0.7862  0.7863  0.7858  0.7860  0.7858  0.7860  0.0002  \n",
      "MAE (testset)     0.5981  0.5986  0.5979  0.5983  0.5981  0.5982  0.0002  \n",
      "Fit time          103.16  132.09  112.49  142.39  119.36  121.90  13.93   \n",
      "Test time         37.19   39.39   35.78   43.92   32.24   37.71   3.88    \n"
     ]
    },
    {
     "data": {
      "text/plain": [
       "{'test_rmse': array([0.78622502, 0.78634878, 0.78575128, 0.78600815, 0.78582066]),\n",
       " 'test_mae': array([0.59807191, 0.59859678, 0.59793272, 0.59832722, 0.59805088]),\n",
       " 'fit_time': (103.1645679473877,\n",
       "  132.0932011604309,\n",
       "  112.49283027648926,\n",
       "  142.39242315292358,\n",
       "  119.36145806312561),\n",
       " 'test_time': (37.18884301185608,\n",
       "  39.39433407783508,\n",
       "  35.783851861953735,\n",
       "  43.92043590545654,\n",
       "  32.243289947509766)}"
      ]
     },
     "execution_count": 4,
     "metadata": {},
     "output_type": "execute_result"
    }
   ],
   "source": [
    "# Collaborative filtering\n",
    "df_ratings = pd.read_csv(\"../data/raw/ratings.csv\")\n",
    "df_ratings = df_ratings.drop(\"timestamp\", axis=1)\n",
    "df_movies = pd.read_csv(\"../data/raw/movies.csv\")\n",
    "reader = Reader(rating_scale=(0, 5))\n",
    "df_surprise = Dataset.load_from_df(df_ratings, reader=reader)\n",
    "\n",
    "svd = SVD()\n",
    "cross_validate(svd, df_surprise,measures=['RMSE', 'MAE'], cv=5, verbose=True )\n"
   ]
  },
  {
   "cell_type": "code",
   "execution_count": 8,
   "id": "214a6f33-405d-4487-9b6b-e303030a1561",
   "metadata": {},
   "outputs": [
    {
     "name": "stderr",
     "output_type": "stream",
     "text": [
      "\n",
      "KeyboardInterrupt\n",
      "\n"
     ]
    }
   ],
   "source": [
    "from surprise.model_selection import GridSearchCV\n",
    "\n",
    "param_grid = {'n_factors': [100,150],\n",
    "              'n_epochs': [20,25,30],\n",
    "              'lr_all':[0.005,0.01,0.1],\n",
    "              'reg_all':[0.02,0.05,0.1]}\n",
    "grid_search = GridSearchCV(SVD, param_grid, measures=['rmse','mae'], cv=3)\n",
    "grid_search.fit(df_surprise)     "
   ]
  },
  {
   "cell_type": "code",
   "execution_count": 9,
   "id": "281df960-64b9-4c25-b432-5c40ded67565",
   "metadata": {},
   "outputs": [
    {
     "ename": "AttributeError",
     "evalue": "'GridSearchCV' object has no attribute 'best_score'",
     "output_type": "error",
     "traceback": [
      "\u001b[0;31m---------------------------------------------------------------------------\u001b[0m",
      "\u001b[0;31mAttributeError\u001b[0m                            Traceback (most recent call last)",
      "Cell \u001b[0;32mIn[9], line 1\u001b[0m\n\u001b[0;32m----> 1\u001b[0m \u001b[38;5;28mprint\u001b[39m(\u001b[43mgrid_search\u001b[49m\u001b[38;5;241;43m.\u001b[39;49m\u001b[43mbest_score\u001b[49m[\u001b[38;5;124m'\u001b[39m\u001b[38;5;124mrmse\u001b[39m\u001b[38;5;124m'\u001b[39m])\n\u001b[1;32m      3\u001b[0m \u001b[38;5;28mprint\u001b[39m(grid_search\u001b[38;5;241m.\u001b[39mbest_score[\u001b[38;5;124m'\u001b[39m\u001b[38;5;124mmae\u001b[39m\u001b[38;5;124m'\u001b[39m])\n\u001b[1;32m      5\u001b[0m \u001b[38;5;28mprint\u001b[39m(grid_search\u001b[38;5;241m.\u001b[39mbest_params[\u001b[38;5;124m'\u001b[39m\u001b[38;5;124mrmse\u001b[39m\u001b[38;5;124m'\u001b[39m])\n",
      "\u001b[0;31mAttributeError\u001b[0m: 'GridSearchCV' object has no attribute 'best_score'"
     ]
    }
   ],
   "source": [
    "print(grid_search.best_score['rmse'])\n",
    "\n",
    "print(grid_search.best_score['mae'])\n",
    "\n",
    "print(grid_search.best_params['rmse'])\n",
    "\n",
    "tunedSVD = grid_search.best_estimator['rmse']\n",
    "\n",
    "cross_validate(tunedSVD, df_surprise, measures=['RMSE', 'MAE'], cv=5, verbose=True)"
   ]
  },
  {
   "cell_type": "code",
   "execution_count": 5,
   "id": "03a40752-71d5-4c76-9c6b-c2ed2a626750",
   "metadata": {},
   "outputs": [],
   "source": [
    "train_set = df_surprise.build_full_trainset()"
   ]
  },
  {
   "cell_type": "code",
   "execution_count": 6,
   "id": "2a431ee6-2712-4a8f-ab5e-841581bd75bc",
   "metadata": {},
   "outputs": [],
   "source": [
    "def recommandations_collab(user_id, num_recommendations=10):\n",
    "    # Générer l'anti-test set pour l'utilisateur cible\n",
    "    anti_testset = []\n",
    "    targetUser = train_set.to_inner_uid(user_id)\n",
    "    moyenne = train_set.global_mean\n",
    "    user_note = train_set.ur[targetUser]\n",
    "    user_livre = [item for (item, _) in user_note]\n",
    "\n",
    "    for livre in train_set.all_items():\n",
    "        if livre not in user_livre:\n",
    "            anti_testset.append((user_id, train_set.to_raw_iid(livre), moyenne))\n",
    "\n",
    "    # Effectuer les prédictions\n",
    "    predictionsSVD = svd.test(anti_testset)\n",
    "    predictionsSVD = pd.DataFrame(predictionsSVD)\n",
    "\n",
    "    # Mapper les IDs de films aux titres\n",
    "    movieId_title_map = df_movies.set_index('movieId')['title'].to_dict()\n",
    "    predictionsSVD['title'] = predictionsSVD['iid'].map(movieId_title_map)\n",
    "\n",
    "    # Renommer les colonnes et trier par note estimée\n",
    "    predictionsSVD = predictionsSVD.rename(columns={'uid': 'userId', 'est': 'note'})\n",
    "    predictionsSVD = predictionsSVD[['userId', 'title', 'note']]\n",
    "    predictionsSVD.sort_values('note', ascending=False, inplace=True)\n",
    "\n",
    "    # Retourner les top N recommandations\n",
    "    return predictionsSVD.head(num_recommendations)"
   ]
  },
  {
   "cell_type": "code",
   "execution_count": 7,
   "id": "a78796d6-51b9-4c2d-830d-a156c07e368c",
   "metadata": {},
   "outputs": [
    {
     "name": "stdout",
     "output_type": "stream",
     "text": [
      "       userId                                              title      note\n",
      "1809     1000                      Dark Knight Rises, The (2012)  4.957928\n",
      "172      1000                                  Braveheart (1995)  4.865203\n",
      "934      1000                                         300 (2007)  4.799455\n",
      "2612     1000                                Interstellar (2014)  4.797906\n",
      "562      1000                                   Gladiator (2000)  4.783908\n",
      "10457    1000                                 Bleak House (2005)  4.749111\n",
      "12       1000                   Shawshank Redemption, The (1994)  4.735469\n",
      "5654     1000     Batman: The Dark Knight Returns, Part 2 (2013)  4.730704\n",
      "180      1000  Star Wars: Episode VI - Return of the Jedi (1983)  4.725811\n",
      "12770    1000          Doctor Who: The Time of the Doctor (2013)  4.714095\n",
      "1796     1000  Harry Potter and the Deathly Hallows: Part 1 (...  4.704260\n",
      "3719     1000                                   Gladiator (1992)  4.695376\n",
      "1862     1000                           Last Samurai, The (2003)  4.691807\n",
      "9        1000          Star Wars: Episode IV - A New Hope (1977)  4.689093\n",
      "10461    1000                           Hollow Crown, The (2012)  4.684129\n",
      "2621     1000                          The Imitation Game (2014)  4.683982\n",
      "9206     1000                           Between the Folds (2008)  4.663170\n",
      "3027     1000                            Django Unchained (2012)  4.659175\n",
      "359      1000                                Forrest Gump (1994)  4.653263\n",
      "2987     1000                              Shutter Island (2010)  4.651492\n"
     ]
    }
   ],
   "source": [
    "user_id = 1000\n",
    "num_recommendations = 20\n",
    "top_recommendations_collab = recommandations_collab(user_id, num_recommendations)\n",
    "print(top_recommendations_collab)"
   ]
  },
  {
   "cell_type": "code",
   "execution_count": 339,
   "id": "7cfa08b1-af97-4116-bd71-c1ef0cbcd88d",
   "metadata": {},
   "outputs": [],
   "source": [
    "import pickle\n",
    "\n",
    "with open(\"../models/svd_model.pkl\", \"wb\") as f:\n",
    "    pickle.dump(svd, f)"
   ]
  },
  {
   "cell_type": "code",
   "execution_count": null,
   "id": "eb2d7c4c-543b-49e9-83f8-ffca45a7e55e",
   "metadata": {},
   "outputs": [],
   "source": []
  },
  {
   "cell_type": "code",
   "execution_count": 222,
   "id": "1b7b23e2-4580-432f-8aa9-e8a04cbc4c9f",
   "metadata": {},
   "outputs": [
    {
     "name": "stdout",
     "output_type": "stream",
     "text": [
      "       userId                                              title      note\n",
      "238      1000                              Godfather, The (1972)  4.926987\n",
      "260      1000                     Godfather: Part II, The (1974)  4.913250\n",
      "562      1000                                   Gladiator (2000)  4.882262\n",
      "1809     1000                      Dark Knight Rises, The (2012)  4.862237\n",
      "172      1000                                  Braveheart (1995)  4.840091\n",
      "1796     1000  Harry Potter and the Deathly Hallows: Part 1 (...  4.825624\n",
      "10458    1000                               Frozen Planet (2011)  4.820727\n",
      "12       1000                   Shawshank Redemption, The (1994)  4.818289\n",
      "9        1000          Star Wars: Episode IV - A New Hope (1977)  4.809208\n",
      "2612     1000                                Interstellar (2014)  4.800105\n"
     ]
    },
    {
     "name": "stdin",
     "output_type": "stream",
     "text": [
      "Êtes-vous satisfait de ces recommandations ? (Oui/Non):  non\n"
     ]
    },
    {
     "name": "stdout",
     "output_type": "stream",
     "text": [
      "   userId                                              title      note\n",
      "0    1000                              Godfather, The (1972)  4.926987\n",
      "1    1000  Harry Potter and the Deathly Hallows: Part 1 (...  4.825624\n",
      "2    1000                                   Gladiator (2000)  4.882262\n",
      "3    1000                               Frozen Planet (2011)  4.820727\n",
      "4    1000          Star Wars: Episode IV - A New Hope (1977)  4.809208\n",
      "5    1000                                Interstellar (2014)  4.800105\n",
      "6    1000                                  Braveheart (1995)  4.840091\n",
      "7    1000                      Dark Knight Rises, The (2012)  4.862237\n",
      "8    1000                     Godfather: Part II, The (1974)  4.913250\n",
      "9    1000                   Shawshank Redemption, The (1994)  4.818289\n"
     ]
    }
   ],
   "source": [
    "import random\n",
    "\n",
    "def generer_nouvelles_recommandations(recommandations, nb_recommandations=10):\n",
    "    # Convertir les recommandations en liste\n",
    "    recommandations_liste = recommandations.values.tolist()\n",
    "    # Mélanger aléatoirement les recommandations\n",
    "    random.shuffle(recommandations_liste)\n",
    "    # Sélectionner un sous-ensemble de recommandations\n",
    "    nouvelles_recommandations = recommandations_liste[:nb_recommandations]\n",
    "    # Convertir la liste en DataFrame\n",
    "    nouvelles_recommandations_df = pd.DataFrame(nouvelles_recommandations, columns=recommandations.columns)\n",
    "    return nouvelles_recommandations_df\n",
    "\n",
    "# Afficher les recommandations initiales\n",
    "top_recommendations_collab = recommandations_collab(user_id, num_recommendations)\n",
    "afficher_recommandations(top_recommendations_collab)\n",
    "\n",
    "# Recueillir le retour utilisateur\n",
    "satisfaction = input(\"Êtes-vous satisfait de ces recommandations ? (Oui/Non): \")\n",
    "\n",
    "if satisfaction.lower() == \"non\":\n",
    "    # Générer de nouvelles recommandations sans réentraîner le modèle\n",
    "    nouvelles_recommandations = generer_nouvelles_recommandations(top_recommendations_collab)\n",
    "    # Afficher les nouvelles recommandations\n",
    "    afficher_recommandations(nouvelles_recommandations)\n"
   ]
  },
  {
   "cell_type": "code",
   "execution_count": 353,
   "id": "95cac69e-1bd5-4287-8ea3-a3e9b78aed1c",
   "metadata": {},
   "outputs": [],
   "source": [
    "def recommandations_hybride(user_id, titre, num_recommendations=10, alpha=0.8, n=100):\n",
    "    # Obtenir les recommandations basées sur le contenu\n",
    "    rec_content = recommandations_content(titre, sim_euclidienne, num_recommendations*n)\n",
    "    rec_content = rec_content.set_index('title')\n",
    "    rec_content = rec_content.rename(columns={'score': 'score_content'})\n",
    "    print(\"Recommandations basées sur le contenu pour '{}':\\n{}\".format(titre, rec_content.head(10)))\n",
    "\n",
    "    # Obtenir les recommandations basées sur le filtrage collaboratif\n",
    "    rec_collab = recommandations_collab(user_id, num_recommendations*n)\n",
    "    rec_collab = rec_collab.set_index('title')\n",
    "    rec_collab = rec_collab.rename(columns={'note': 'score_collab'})\n",
    "    rec_collab['score_collab'] = rec_collab['score_collab'] / 5.0\n",
    "    print(\"Recommandations collaboratives pour l'utilisateur {}:\\n{}\".format(user_id, rec_collab.head(10)))\n",
    "\n",
    "    # Fusionner les scores\n",
    "    rec_combined = rec_content.join(rec_collab, how='outer').fillna(0)\n",
    "    rec_combined['score'] = (alpha * rec_combined['score_content']) +((1 - alpha) * rec_combined['score_collab'])\n",
    "\n",
    "    # Trier et retourner les recommandations\n",
    "    rec_combined = rec_combined.sort_values('score', ascending=False)\n",
    "    rec_combined = rec_combined[['score_content', 'score_collab', 'score']].reset_index()\n",
    "    return rec_combined.head(num_recommendations)"
   ]
  },
  {
   "cell_type": "code",
   "execution_count": 350,
   "id": "ae2501d8-98cd-46ba-ae43-278df6f54035",
   "metadata": {},
   "outputs": [
    {
     "name": "stdout",
     "output_type": "stream",
     "text": [
      "Recommandations basées sur le contenu pour 'Braveheart (1995)':\n",
      "                                                    score_content\n",
      "title                                                            \n",
      "Dances with Wolves (1990)                                0.467537\n",
      "Ben-Hur (1959)                                           0.464971\n",
      "Schindler's List (1993)                                  0.464550\n",
      "Lawrence of Arabia (1962)                                0.463550\n",
      "Attack Force Z (a.k.a. The Z Men) (Z-tzu te kun...       0.463007\n",
      "Saving Private Ryan (1998)                               0.462406\n",
      "Bounty, The (1984)                                       0.460290\n",
      "Platoon (1986)                                           0.458120\n",
      "River, The (1984)                                        0.457828\n",
      "Gone with the Wind (1939)                                0.456969\n",
      "Recommandations collaboratives pour l'utilisateur 1000:\n",
      "                                                    userId  score_collab\n",
      "title                                                                   \n",
      "Godfather, The (1972)                                 1000      0.985397\n",
      "Godfather: Part II, The (1974)                        1000      0.982650\n",
      "Gladiator (2000)                                      1000      0.976452\n",
      "Dark Knight Rises, The (2012)                         1000      0.972447\n",
      "Braveheart (1995)                                     1000      0.968018\n",
      "Harry Potter and the Deathly Hallows: Part 1 (2...    1000      0.965125\n",
      "Frozen Planet (2011)                                  1000      0.964145\n",
      "Shawshank Redemption, The (1994)                      1000      0.963658\n",
      "Star Wars: Episode IV - A New Hope (1977)             1000      0.961842\n",
      "Interstellar (2014)                                   1000      0.960021\n",
      "Recommandations hybrides pour 'Braveheart (1995)':\n",
      "                                               title  score_content  \\\n",
      "0                                   Gladiator (2000)       0.456223   \n",
      "1                          Dances with Wolves (1990)       0.467537   \n",
      "2                                     Ben-Hur (1959)       0.464971   \n",
      "3                            Schindler's List (1993)       0.464550   \n",
      "4                          Lawrence of Arabia (1962)       0.463550   \n",
      "5  Attack Force Z (a.k.a. The Z Men) (Z-tzu te ku...       0.463007   \n",
      "6                         Saving Private Ryan (1998)       0.462406   \n",
      "7                                 Bounty, The (1984)       0.460290   \n",
      "8                                     Platoon (1986)       0.458120   \n",
      "9                                  River, The (1984)       0.457828   \n",
      "\n",
      "   score_collab     score  \n",
      "0      0.976452  0.560269  \n",
      "1      0.000000  0.374030  \n",
      "2      0.000000  0.371977  \n",
      "3      0.000000  0.371640  \n",
      "4      0.000000  0.370840  \n",
      "5      0.000000  0.370405  \n",
      "6      0.000000  0.369925  \n",
      "7      0.000000  0.368232  \n",
      "8      0.000000  0.366496  \n",
      "9      0.000000  0.366262  \n"
     ]
    }
   ],
   "source": [
    "user_id = 1000\n",
    "titre = \"Braveheart (1995)\"\n",
    "num_recommendations = 10\n",
    "recommandations_final = recommandations_hybride(user_id, titre, num_recommendations, alpha=0.8)\n",
    "print(\"Recommandations hybrides pour '{}':\\n{}\".format(titre, recommandations_final))\n"
   ]
  },
  {
   "cell_type": "code",
   "execution_count": 351,
   "id": "ce2b4939-b416-492f-8f08-b778f2782109",
   "metadata": {},
   "outputs": [
    {
     "name": "stdout",
     "output_type": "stream",
     "text": [
      "Recommandations basées sur le contenu pour 'Innocence (2014)':\n",
      "                                                    score_content\n",
      "title                                                            \n",
      "Whom the Gods Wish to Destroy (Nibelungen, Teil...       0.639589\n",
      "Dragonworld (1994)                                       0.639589\n",
      "Verbo (2011)                                             0.639589\n",
      "Snowmageddon (2011)                                      0.639589\n",
      "Boy and the Pirates, The (1960)                          0.639589\n",
      "Neverland (2011)                                         0.639589\n",
      "Sleeping Beauty (2014)                                   0.639589\n",
      "Aladdin (1986)                                           0.639589\n",
      "Merlin's Apprentice (2006)                               0.639589\n",
      "The Lost Continent (1968)                                0.639589\n",
      "Recommandations collaboratives pour l'utilisateur 1000:\n",
      "                                                    userId  score_collab\n",
      "title                                                                   \n",
      "Godfather, The (1972)                                 1000      0.985397\n",
      "Godfather: Part II, The (1974)                        1000      0.982650\n",
      "Gladiator (2000)                                      1000      0.976452\n",
      "Dark Knight Rises, The (2012)                         1000      0.972447\n",
      "Braveheart (1995)                                     1000      0.968018\n",
      "Harry Potter and the Deathly Hallows: Part 1 (2...    1000      0.965125\n",
      "Frozen Planet (2011)                                  1000      0.964145\n",
      "Shawshank Redemption, The (1994)                      1000      0.963658\n",
      "Star Wars: Episode IV - A New Hope (1977)             1000      0.961842\n",
      "Interstellar (2014)                                   1000      0.960021\n",
      "Recommandations hybrides pour 'Innocence (2014)':\n",
      "                                               title  score_content  \\\n",
      "0                         Merlin's Apprentice (2006)       0.639589   \n",
      "1                                 Dragonworld (1994)       0.639589   \n",
      "2  Whom the Gods Wish to Destroy (Nibelungen, Tei...       0.639589   \n",
      "3                                       Verbo (2011)       0.639589   \n",
      "4                          The Lost Continent (1968)       0.639589   \n",
      "5                                Snowmageddon (2011)       0.639589   \n",
      "6                             Sleeping Beauty (2014)       0.639589   \n",
      "7                                   Neverland (2011)       0.639589   \n",
      "8                                     Aladdin (1986)       0.639589   \n",
      "9         Yeti: The Giant of the 20th Century (1977)       0.639589   \n",
      "\n",
      "   score_collab     score  \n",
      "0           0.0  0.511671  \n",
      "1           0.0  0.511671  \n",
      "2           0.0  0.511671  \n",
      "3           0.0  0.511671  \n",
      "4           0.0  0.511671  \n",
      "5           0.0  0.511671  \n",
      "6           0.0  0.511671  \n",
      "7           0.0  0.511671  \n",
      "8           0.0  0.511671  \n",
      "9           0.0  0.511671  \n"
     ]
    }
   ],
   "source": [
    "user_id = 1000\n",
    "titre = \"Innocence (2014)\"\n",
    "num_recommendations = 10\n",
    "recommandations_final = recommandations_hybride(user_id, titre, num_recommendations, alpha=0.8)\n",
    "print(\"Recommandations hybrides pour '{}':\\n{}\".format(titre, recommandations_final))\n"
   ]
  },
  {
   "cell_type": "code",
   "execution_count": 354,
   "id": "ee79373b-aad9-44c5-906c-359f76abdcd9",
   "metadata": {},
   "outputs": [
    {
     "name": "stdout",
     "output_type": "stream",
     "text": [
      "Recommandations basées sur le contenu pour 'Toy Story (1995)':\n",
      "                                   score_content\n",
      "title                                           \n",
      "Toy Story 2 (1999)                      0.521507\n",
      "Finding Nemo (2003)                     0.467355\n",
      "Pinocchio (1940)                        0.462417\n",
      "Bug's Life, A (1998)                    0.461813\n",
      "Cars (2006)                             0.458990\n",
      "Beauty and the Beast (1991)             0.457702\n",
      "Toy Story That Time Forgot (2014)       0.456539\n",
      "Monsters, Inc. (2001)                   0.454366\n",
      "Ratatouille (2007)                      0.453935\n",
      "Lion King, The (1994)                   0.453881\n",
      "Recommandations collaboratives pour l'utilisateur 1000:\n",
      "                                                    userId  score_collab\n",
      "title                                                                   \n",
      "Godfather, The (1972)                                 1000      0.985397\n",
      "Godfather: Part II, The (1974)                        1000      0.982650\n",
      "Gladiator (2000)                                      1000      0.976452\n",
      "Dark Knight Rises, The (2012)                         1000      0.972447\n",
      "Braveheart (1995)                                     1000      0.968018\n",
      "Harry Potter and the Deathly Hallows: Part 1 (2...    1000      0.965125\n",
      "Frozen Planet (2011)                                  1000      0.964145\n",
      "Shawshank Redemption, The (1994)                      1000      0.963658\n",
      "Star Wars: Episode IV - A New Hope (1977)             1000      0.961842\n",
      "Interstellar (2014)                                   1000      0.960021\n",
      "Recommandations hybrides pour 'Toy Story (1995)':\n",
      "                                               title  score_content  \\\n",
      "0                              Godfather, The (1972)       0.439878   \n",
      "1          Star Wars: Episode IV - A New Hope (1977)       0.439336   \n",
      "2                     Godfather: Part II, The (1974)       0.432748   \n",
      "3                   Shawshank Redemption, The (1994)       0.435331   \n",
      "4                                  Braveheart (1995)       0.434213   \n",
      "5  Raiders of the Lost Ark (Indiana Jones and the...       0.438598   \n",
      "6                                  Goodfellas (1990)       0.435603   \n",
      "7                   Silence of the Lambs, The (1991)       0.431433   \n",
      "8                         Usual Suspects, The (1995)       0.430510   \n",
      "9  Star Wars: Episode VI - Return of the Jedi (1983)       0.430839   \n",
      "\n",
      "   score_collab     score  \n",
      "0      0.985397  0.548982  \n",
      "1      0.961842  0.543837  \n",
      "2      0.982650  0.542729  \n",
      "3      0.963658  0.540997  \n",
      "4      0.968018  0.540974  \n",
      "5      0.925419  0.535962  \n",
      "6      0.934595  0.535401  \n",
      "7      0.950943  0.535335  \n",
      "8      0.953846  0.535177  \n",
      "9      0.947451  0.534161  \n"
     ]
    }
   ],
   "source": [
    "titre = \"Toy Story (1995)\"\n",
    "recommandations = recommandations_hybride(user_id, titre, num_recommendations, alpha=0.8)\n",
    "print(\"Recommandations hybrides pour '{}':\\n{}\".format(titre, recommandations))"
   ]
  },
  {
   "cell_type": "code",
   "execution_count": null,
   "id": "2a1185c0-d568-4738-81a3-a1dbdef55bd3",
   "metadata": {},
   "outputs": [],
   "source": []
  }
 ],
 "metadata": {
  "kernelspec": {
   "display_name": "movie_kernel",
   "language": "python",
   "name": "movie_kernel"
  },
  "language_info": {
   "codemirror_mode": {
    "name": "ipython",
    "version": 3
   },
   "file_extension": ".py",
   "mimetype": "text/x-python",
   "name": "python",
   "nbconvert_exporter": "python",
   "pygments_lexer": "ipython3",
   "version": "3.12.2"
  }
 },
 "nbformat": 4,
 "nbformat_minor": 5
}
