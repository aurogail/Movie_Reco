{
 "cells": [
  {
   "cell_type": "markdown",
   "id": "c643bc20-473f-4a93-9d53-861998f480e4",
   "metadata": {},
   "source": [
    "# Nettoyage movies_tags"
   ]
  },
  {
   "cell_type": "code",
   "execution_count": 1,
   "id": "a85fac63-6d2d-4244-9a5f-061ff7fe54ac",
   "metadata": {},
   "outputs": [],
   "source": [
    "import pandas as pd"
   ]
  },
  {
   "cell_type": "code",
   "execution_count": 2,
   "id": "d7e349ee-bebe-41bc-af37-06dd1dab6a1c",
   "metadata": {},
   "outputs": [
    {
     "data": {
      "text/html": [
       "<div>\n",
       "<style scoped>\n",
       "    .dataframe tbody tr th:only-of-type {\n",
       "        vertical-align: middle;\n",
       "    }\n",
       "\n",
       "    .dataframe tbody tr th {\n",
       "        vertical-align: top;\n",
       "    }\n",
       "\n",
       "    .dataframe thead th {\n",
       "        text-align: right;\n",
       "    }\n",
       "</style>\n",
       "<table border=\"1\" class=\"dataframe\">\n",
       "  <thead>\n",
       "    <tr style=\"text-align: right;\">\n",
       "      <th></th>\n",
       "      <th>movieId</th>\n",
       "      <th>title</th>\n",
       "      <th>tags</th>\n",
       "    </tr>\n",
       "  </thead>\n",
       "  <tbody>\n",
       "    <tr>\n",
       "      <th>0</th>\n",
       "      <td>1</td>\n",
       "      <td>Toy Story (1995)</td>\n",
       "      <td>adventure, animation, children, comedy, fantas...</td>\n",
       "    </tr>\n",
       "    <tr>\n",
       "      <th>1</th>\n",
       "      <td>2</td>\n",
       "      <td>Jumanji (1995)</td>\n",
       "      <td>adventure, children, fantasy, scary, see also:...</td>\n",
       "    </tr>\n",
       "    <tr>\n",
       "      <th>2</th>\n",
       "      <td>3</td>\n",
       "      <td>Grumpier Old Men (1995)</td>\n",
       "      <td>comedy, romance, moldy, walter matthau, howard...</td>\n",
       "    </tr>\n",
       "    <tr>\n",
       "      <th>3</th>\n",
       "      <td>4</td>\n",
       "      <td>Waiting to Exhale (1995)</td>\n",
       "      <td>comedy, drama, romance, revenge, characters, c...</td>\n",
       "    </tr>\n",
       "    <tr>\n",
       "      <th>4</th>\n",
       "      <td>5</td>\n",
       "      <td>Father of the Bride Part II (1995)</td>\n",
       "      <td>comedy, childhood classics, worst movies ever,...</td>\n",
       "    </tr>\n",
       "  </tbody>\n",
       "</table>\n",
       "</div>"
      ],
      "text/plain": [
       "   movieId                               title  \\\n",
       "0        1                    Toy Story (1995)   \n",
       "1        2                      Jumanji (1995)   \n",
       "2        3             Grumpier Old Men (1995)   \n",
       "3        4            Waiting to Exhale (1995)   \n",
       "4        5  Father of the Bride Part II (1995)   \n",
       "\n",
       "                                                tags  \n",
       "0  adventure, animation, children, comedy, fantas...  \n",
       "1  adventure, children, fantasy, scary, see also:...  \n",
       "2  comedy, romance, moldy, walter matthau, howard...  \n",
       "3  comedy, drama, romance, revenge, characters, c...  \n",
       "4  comedy, childhood classics, worst movies ever,...  "
      ]
     },
     "execution_count": 2,
     "metadata": {},
     "output_type": "execute_result"
    }
   ],
   "source": [
    "df_movies_tags = pd.read_csv('../src/data/interim/movies_tags.csv')\n",
    "df_movies_tags.head()"
   ]
  },
  {
   "cell_type": "code",
   "execution_count": 3,
   "id": "20819121-9720-4d1d-9efe-6c232d3d7d6b",
   "metadata": {},
   "outputs": [
    {
     "data": {
      "text/plain": [
       "movieId     int64\n",
       "title      object\n",
       "tags       object\n",
       "dtype: object"
      ]
     },
     "execution_count": 3,
     "metadata": {},
     "output_type": "execute_result"
    }
   ],
   "source": [
    "df_movies_tags.dtypes"
   ]
  },
  {
   "cell_type": "code",
   "execution_count": 4,
   "id": "f11b09a3-4cfc-4c24-ad54-058e90071e0f",
   "metadata": {},
   "outputs": [
    {
     "data": {
      "text/plain": [
       "array([[1, 'Toy Story (1995)',\n",
       "        list(['adventure', ' animation', ' children', ' comedy', ' fantasy', ' buy', ' soothing', ' humorous', ' usa', ' ya boy', ' watched', ' national film registry', ' time travel', ' dolls', ' villian hurts toys', ' very good', ' first cgi film', ' engaging', ' pixar animation', ' 2009 reissue in stereoscopic 3-d', ' fanciful', ' want', ' dvd-video', ' cute', ' computer animation', ' heroic mission', ' avi', ' unlikely friendships', \" erlend's dvds\", ' action figure', ' rated-g', \" tumey's vhs\", ' kids movie', ' tã\\x83â©a leoni does not star in this movie', ' ã©ë\\x9câ®ã¤â¸â\\x82¬ã©â¸â£', ' action figures', ' imdb top 250', ' story', ' cg animation', ' friendship', ' family', ' want to see again', ' family film', ' warm', ' animated', ' toys come to life', ' classic', ' daring rescues', ' tim allen', ' voice acting', ' 3d', ' innovative', ' lots of heart', ' tom hanks', ' kids and family', ' 55 movies every kid should see--entertainment weekly', ' clever', ' buddy movie', ' almost favorite', ' john lasseter', ' pixar', ' disney', ' cgi', ' the boys', ' rousing', ' fun', \" tumey's to see again\", ' bd-video', ' witty', ' funny', ' disney animated feature', ' bright', ' best of rotten tomatoes: all time', ' buzz lightyear', ' woody', ' toys', ' toy', ' clv', ' light', ' cartoon'])],\n",
       "       [2, 'Jumanji (1995)',\n",
       "        list(['adventure', ' children', ' fantasy', ' scary', ' see also:zathura', ' joe johnston', ' adapted from:book', ' magic board game', ' filmed in bc', ' dynamic cgi action', ' not for kids', ' jungle', ' childhood recaptured', ' saturn award (best supporting actress)', ' for children', ' kirsten dunst', ' based on a book', ' time', ' time travel', ' board game', ' saturn award (best special effects)', ' childish', ' chris van allsburg', ' animals', ' robin williams', ' horrifying (but not horror genre)', ' kid flick', ' herds of cgi animals', ' clv', ' bad cgi', ' monkey', ' lebbat', ' game'])]],\n",
       "      dtype=object)"
      ]
     },
     "execution_count": 4,
     "metadata": {},
     "output_type": "execute_result"
    }
   ],
   "source": [
    "df_movies_tags['tags'] = df_movies_tags['tags'].apply(lambda x: x.split(','))\n",
    "\n",
    "\n",
    "df_movies_tags.head(2).values"
   ]
  },
  {
   "cell_type": "code",
   "execution_count": 5,
   "id": "bca7d6d9-4c9b-426c-ab0c-4f40247f26ce",
   "metadata": {},
   "outputs": [
    {
     "name": "stdout",
     "output_type": "stream",
     "text": [
      "[[1 'Toy Story (1995)'\n",
      "  list(['national film registry', 'friendship', 'disney animated feature', 'very good', 'comedy', 'disney', 'cgi', 'tim allen', 'engaging', 'animated', 'toys', 'light', 'cartoon', 'lots of heart', 'adventure', 'rated-g', 'story', 'usa', 'want to see again', '55 movies every kid should see--entertainment weekly', 'villian hurts toys', 'the boys', 'action figure', 'heroic mission', 'avi', 'innovative', 'bright', 'john lasseter', 'classic', 'pixar animation', 'dolls', 'first cgi film', 'ya boy', 'warm', 'family film', 'time travel', '2009 reissue in stereoscopic 3-d', 'kids movie', 'fun', 'toys come to life', 'animation', 'voice acting', 'cute', 'witty', 'unlikely friendships', 'soothing', 'humorous', 'buy', '3d', 'clever', 'buzz lightyear', 'kids and family', 'buddy movie', 'children', 'fanciful', 'dvd-video', 'watched', 'almost favorite', 'pixar', 'daring rescues', 'computer animation', 'tom hanks', 'toy', 'clv', 'rousing', 'fantasy', 'family', 'action figures', 'imdb top 250', 'funny', 'woody', 'cg animation', 'bd-video', 'want'])]]\n"
     ]
    }
   ],
   "source": [
    "import re\n",
    "\n",
    "def clean_tags(tags_list):\n",
    "    clean_tags_list = []\n",
    "    for tag in tags_list:\n",
    "        # Vérifier si le tag contient des caractères spéciaux autres que l'espace\n",
    "        if not any(re.search(r'[^\\w\\s_-]', word) for word in tag):\n",
    "            clean_tags_list.append(tag.strip())\n",
    "    clean_tags_list = list(set(clean_tags_list))\n",
    "    return clean_tags_list\n",
    "\n",
    "# Appliquer la fonction clean_tags à la colonne 'tags' du DataFrame\n",
    "df_movies_tags['tags'] = df_movies_tags['tags'].apply(clean_tags)\n",
    "\n",
    "# Afficher les tags nettoyés\n",
    "print(df_movies_tags.head(1).values)\n",
    "\n"
   ]
  },
  {
   "cell_type": "code",
   "execution_count": 6,
   "id": "5dc3f714-038e-4e7c-92be-065832774f7e",
   "metadata": {},
   "outputs": [],
   "source": [
    "df_movies_tags['tags'] = df_movies_tags['tags'].apply(lambda x: ', '.join(x))"
   ]
  },
  {
   "cell_type": "code",
   "execution_count": 7,
   "id": "d3159814-b0de-4440-9dbc-a931bfbc2a2a",
   "metadata": {},
   "outputs": [
    {
     "data": {
      "text/html": [
       "<div>\n",
       "<style scoped>\n",
       "    .dataframe tbody tr th:only-of-type {\n",
       "        vertical-align: middle;\n",
       "    }\n",
       "\n",
       "    .dataframe tbody tr th {\n",
       "        vertical-align: top;\n",
       "    }\n",
       "\n",
       "    .dataframe thead th {\n",
       "        text-align: right;\n",
       "    }\n",
       "</style>\n",
       "<table border=\"1\" class=\"dataframe\">\n",
       "  <thead>\n",
       "    <tr style=\"text-align: right;\">\n",
       "      <th></th>\n",
       "      <th>movieId</th>\n",
       "      <th>title</th>\n",
       "      <th>tags</th>\n",
       "    </tr>\n",
       "  </thead>\n",
       "  <tbody>\n",
       "    <tr>\n",
       "      <th>0</th>\n",
       "      <td>1</td>\n",
       "      <td>Toy Story (1995)</td>\n",
       "      <td>national film registry, friendship, disney ani...</td>\n",
       "    </tr>\n",
       "    <tr>\n",
       "      <th>1</th>\n",
       "      <td>2</td>\n",
       "      <td>Jumanji (1995)</td>\n",
       "      <td>time, bad cgi, childhood recaptured, robin wil...</td>\n",
       "    </tr>\n",
       "    <tr>\n",
       "      <th>2</th>\n",
       "      <td>3</td>\n",
       "      <td>Grumpier Old Men (1995)</td>\n",
       "      <td>moldy, no_fa_ganes, romance, sequel, old, good...</td>\n",
       "    </tr>\n",
       "    <tr>\n",
       "      <th>3</th>\n",
       "      <td>4</td>\n",
       "      <td>Waiting to Exhale (1995)</td>\n",
       "      <td>romance, characters, comedy, clv, drama, girli...</td>\n",
       "    </tr>\n",
       "    <tr>\n",
       "      <th>4</th>\n",
       "      <td>5</td>\n",
       "      <td>Father of the Bride Part II (1995)</td>\n",
       "      <td>sequel, touching, diane keaton, good sequel, f...</td>\n",
       "    </tr>\n",
       "    <tr>\n",
       "      <th>...</th>\n",
       "      <td>...</td>\n",
       "      <td>...</td>\n",
       "      <td>...</td>\n",
       "    </tr>\n",
       "    <tr>\n",
       "      <th>27273</th>\n",
       "      <td>131254</td>\n",
       "      <td>Kein Bund fÃ¼r's Leben (2007)</td>\n",
       "      <td>comedy</td>\n",
       "    </tr>\n",
       "    <tr>\n",
       "      <th>27274</th>\n",
       "      <td>131256</td>\n",
       "      <td>Feuer, Eis &amp; Dosenbier (2002)</td>\n",
       "      <td>comedy</td>\n",
       "    </tr>\n",
       "    <tr>\n",
       "      <th>27275</th>\n",
       "      <td>131258</td>\n",
       "      <td>The Pirates (2014)</td>\n",
       "      <td>adventure, mutiny, pirates, korea, bandits, whale</td>\n",
       "    </tr>\n",
       "    <tr>\n",
       "      <th>27276</th>\n",
       "      <td>131260</td>\n",
       "      <td>Rentun Ruusu (2001)</td>\n",
       "      <td></td>\n",
       "    </tr>\n",
       "    <tr>\n",
       "      <th>27277</th>\n",
       "      <td>131262</td>\n",
       "      <td>Innocence (2014)</td>\n",
       "      <td>horror, adventure, fantasy</td>\n",
       "    </tr>\n",
       "  </tbody>\n",
       "</table>\n",
       "<p>27278 rows × 3 columns</p>\n",
       "</div>"
      ],
      "text/plain": [
       "       movieId                               title  \\\n",
       "0            1                    Toy Story (1995)   \n",
       "1            2                      Jumanji (1995)   \n",
       "2            3             Grumpier Old Men (1995)   \n",
       "3            4            Waiting to Exhale (1995)   \n",
       "4            5  Father of the Bride Part II (1995)   \n",
       "...        ...                                 ...   \n",
       "27273   131254       Kein Bund fÃ¼r's Leben (2007)   \n",
       "27274   131256       Feuer, Eis & Dosenbier (2002)   \n",
       "27275   131258                  The Pirates (2014)   \n",
       "27276   131260                 Rentun Ruusu (2001)   \n",
       "27277   131262                    Innocence (2014)   \n",
       "\n",
       "                                                    tags  \n",
       "0      national film registry, friendship, disney ani...  \n",
       "1      time, bad cgi, childhood recaptured, robin wil...  \n",
       "2      moldy, no_fa_ganes, romance, sequel, old, good...  \n",
       "3      romance, characters, comedy, clv, drama, girli...  \n",
       "4      sequel, touching, diane keaton, good sequel, f...  \n",
       "...                                                  ...  \n",
       "27273                                             comedy  \n",
       "27274                                             comedy  \n",
       "27275  adventure, mutiny, pirates, korea, bandits, whale  \n",
       "27276                                                     \n",
       "27277                         horror, adventure, fantasy  \n",
       "\n",
       "[27278 rows x 3 columns]"
      ]
     },
     "execution_count": 7,
     "metadata": {},
     "output_type": "execute_result"
    }
   ],
   "source": [
    "df_movies_tags"
   ]
  },
  {
   "cell_type": "code",
   "execution_count": 8,
   "id": "b381b1fa-6b2a-4fe1-a33f-fd7617f9e34b",
   "metadata": {},
   "outputs": [
    {
     "name": "stdout",
     "output_type": "stream",
     "text": [
      "(27278, 21324)\n"
     ]
    }
   ],
   "source": [
    "from sklearn.feature_extraction.text import TfidfVectorizer\n",
    "\n",
    "tfidf = TfidfVectorizer()\n",
    "\n",
    "matrice_tfidf = tfidf.fit_transform(df_movies_tags['tags'])\n",
    "\n",
    "print(matrice_tfidf.shape)"
   ]
  },
  {
   "cell_type": "code",
   "execution_count": 9,
   "id": "0deb3887-571b-4c16-9ea5-0a57fd551204",
   "metadata": {},
   "outputs": [],
   "source": [
    "from sklearn.metrics.pairwise import cosine_similarity\n",
    "\n",
    "sim_cosinus = cosine_similarity(matrice_tfidf, matrice_tfidf)"
   ]
  },
  {
   "cell_type": "code",
   "execution_count": 10,
   "id": "87729ced-be58-45ed-9b9d-8da61fae6d21",
   "metadata": {},
   "outputs": [],
   "source": [
    "from sklearn.metrics.pairwise import cosine_similarity, euclidean_distances\n",
    "\n",
    "sim_euclidienne = 1 / (1 + euclidean_distances(matrice_tfidf))"
   ]
  },
  {
   "cell_type": "code",
   "execution_count": 11,
   "id": "3002849c-f663-45e3-948f-c9201e2f4ff2",
   "metadata": {},
   "outputs": [],
   "source": [
    "indices = pd.Series(range(0,len(df_movies_tags)), index=df_movies_tags.title)"
   ]
  },
  {
   "cell_type": "code",
   "execution_count": 12,
   "id": "8716dab2-d4ad-43ad-a0ac-a80f972b45fe",
   "metadata": {},
   "outputs": [],
   "source": [
    "def recommandations(titre, cos_sim, num_recommendations=10):\n",
    "    idx = indices[titre]\n",
    "    scores_similarite = list(enumerate(cos_sim[idx]))\n",
    "    scores_similarite = sorted(scores_similarite, key=lambda x: x[1], reverse=True)\n",
    "    top_similair = scores_similarite[1:num_recommendations+1]\n",
    "    res = [(indices.index[idx], score) for idx, score in top_similair]\n",
    "    return res\n"
   ]
  },
  {
   "cell_type": "code",
   "execution_count": 15,
   "id": "b26b7c93-b7f1-4f0c-84c2-a58d94776f86",
   "metadata": {},
   "outputs": [
    {
     "name": "stdout",
     "output_type": "stream",
     "text": [
      "Recommandations pour 'Interstellar' similarité cosinus: \n",
      " [('Employee of the Month (2004)', 0.3211485751623087), ('Mother Knows Best (1997)', 0.28980797236729006), ('Kiss the Girls (1997)', 0.2825552689514304), ('Passengers (2008)', 0.2700010803190702), ('Sixth Sense, The (1999)', 0.2629931310474234), ('High Crimes (2002)', 0.2583394861676635), ('Usual Suspects, The (1995)', 0.2566326114482667), ('No Country for Old Men (2007)', 0.25467941389373927), ('Fight Club (1999)', 0.25289941371243174), ('Shutter Island (2010)', 0.24830867960706848)]\n"
     ]
    }
   ],
   "source": [
    "print(\"Recommandations pour 'Interstellar' similarité cosinus: \\n\",recommandations(\"Seven (a.k.a. Se7en) (1995)\", sim_cosinus))"
   ]
  },
  {
   "cell_type": "code",
   "execution_count": null,
   "id": "dae39c58-affb-4b67-bf77-04243f5ad158",
   "metadata": {},
   "outputs": [],
   "source": []
  },
  {
   "cell_type": "code",
   "execution_count": null,
   "id": "cb8d544e-fd1f-42a0-9a08-fdbb55f16c0d",
   "metadata": {},
   "outputs": [],
   "source": []
  }
 ],
 "metadata": {
  "kernelspec": {
   "display_name": "movie_kernel",
   "language": "python",
   "name": "movie_kernel"
  },
  "language_info": {
   "codemirror_mode": {
    "name": "ipython",
    "version": 3
   },
   "file_extension": ".py",
   "mimetype": "text/x-python",
   "name": "python",
   "nbconvert_exporter": "python",
   "pygments_lexer": "ipython3",
   "version": "3.12.2"
  }
 },
 "nbformat": 4,
 "nbformat_minor": 5
}
