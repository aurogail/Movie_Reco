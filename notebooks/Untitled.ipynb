{
 "cells": [
  {
   "cell_type": "code",
   "execution_count": 12,
   "id": "d15e3cbd-9cc9-4079-bd81-ccded4f86d21",
   "metadata": {},
   "outputs": [],
   "source": [
    "import pandas as pd\n",
    "import os\n",
    "import mlflow\n",
    "import sys\n",
    "sys.path.append('src')\n",
    "from src.models.train_model_svd import *\n",
    "from src.models.load_svd_data import *\n"
   ]
  },
  {
   "cell_type": "code",
   "execution_count": 13,
   "id": "41033345-5450-4d90-b7a8-0b7d309e9617",
   "metadata": {},
   "outputs": [],
   "source": [
    "svd_model = load_svd_model()"
   ]
  },
  {
   "cell_type": "code",
   "execution_count": 35,
   "id": "50e50778-1b7c-4e29-a9d1-ed5bf42c499e",
   "metadata": {},
   "outputs": [],
   "source": [
    "def collab_reco(user_id, svd_model, df_ratings, num_recommendations=10):\n",
    " \n",
    "    # Calculer la moyenne globale des notes\n",
    "    df_ratings= df_ratings[[\"userId\",\"movieId\",\"rating\"]]\n",
    "    moyenne = df_ratings['rating'].mean()\n",
    "    df_movies = pd.read_csv(\"../src/data/raw/movies.csv\")\n",
    "    # Obtenir les films notés par l'utilisateur\n",
    "    user_rated_movies = set(df_ratings[df_ratings['userId'] == user_id]['movieId'])\n",
    "    \n",
    "    # Créer la liste anti_testset pour les films que l'utilisateur n'a pas notés\n",
    "    all_movies = set(df_movies['movieId'])\n",
    "    anti_testset = [(user_id, movie_id, moyenne) for movie_id in all_movies if movie_id not in user_rated_movies]\n",
    "    \n",
    "    # Generate predictions using the SVD model\n",
    "    predictions_svd = svd_model.test(anti_testset)\n",
    "    predictions_svd = pd.DataFrame(predictions_svd)\n",
    "\n",
    "    # Load movie data to map movie IDs to titles\n",
    "    movieId_title_map = df_movies.set_index('movieId')['title'].to_dict()\n",
    "    predictions_svd['title'] = predictions_svd['iid'].map(movieId_title_map)\n",
    "\n",
    "    # Rename and reorder the columns for clarity\n",
    "    predictions_svd = predictions_svd.rename(columns={'uid': 'userId', 'est': 'note'})\n",
    "    predictions_svd = predictions_svd[['userId', 'title', 'note']]\n",
    "    # Sort the predictions by rating in descending order\n",
    "    predictions_svd.sort_values('note', ascending=False, inplace=True)\n",
    "\n",
    "    return predictions_svd.head(num_recommendations)"
   ]
  },
  {
   "cell_type": "code",
   "execution_count": 33,
   "id": "d2a92047-5dfe-47f3-9d06-10041a51757d",
   "metadata": {},
   "outputs": [],
   "source": [
    "df_ratings = pd.read_csv(\"../src/data/raw/ratings.csv\")"
   ]
  },
  {
   "cell_type": "code",
   "execution_count": 37,
   "id": "b8b43cd3-511c-46f2-936f-563ea42b79e1",
   "metadata": {},
   "outputs": [
    {
     "name": "stdout",
     "output_type": "stream",
     "text": [
      "       userId                                   title      note\n",
      "15348     123             Ween Live in Chicago (2004)  4.544851\n",
      "284       123                     Pulp Fiction (1994)  4.452744\n",
      "17650     123                          Welfare (1975)  4.452332\n",
      "19278     123                          The War (2007)  4.446491\n",
      "17770     123         Great White Silence, The (1924)  4.397552\n",
      "11097     123                     Edvard Munch (1974)  4.383126\n",
      "824       123                   Godfather, The (1972)  4.346369\n",
      "21811     123         Century of the Self, The (2002)  4.315091\n",
      "15253     123                           Cosmos (1980)  4.298514\n",
      "15742     123  Captain Conan (Capitaine Conan) (1996)  4.280695\n"
     ]
    }
   ],
   "source": [
    "recommendations = collab_reco(user_id=123, svd_model=svd_model, df_ratings=df_ratings, num_recommendations=10)\n",
    "print(recommendations)"
   ]
  },
  {
   "cell_type": "code",
   "execution_count": 30,
   "id": "172e8fc5-73d1-4ead-bc66-ae2023b71d11",
   "metadata": {},
   "outputs": [
    {
     "data": {
      "text/plain": [
       "userId         int64\n",
       "movieId        int64\n",
       "rating       float64\n",
       "timestamp      int64\n",
       "dtype: object"
      ]
     },
     "execution_count": 30,
     "metadata": {},
     "output_type": "execute_result"
    }
   ],
   "source": [
    "df_ratings.dtypes"
   ]
  },
  {
   "cell_type": "code",
   "execution_count": 31,
   "id": "888b405f-4dd5-4b51-ab8a-c33151bca007",
   "metadata": {},
   "outputs": [
    {
     "data": {
      "text/plain": [
       "3.5255285642993797"
      ]
     },
     "execution_count": 31,
     "metadata": {},
     "output_type": "execute_result"
    }
   ],
   "source": [
    "df_ratings[\"rating\"].mean()"
   ]
  },
  {
   "cell_type": "code",
   "execution_count": null,
   "id": "dce4b855-17ac-40c7-929f-eb4f4266bb5a",
   "metadata": {},
   "outputs": [],
   "source": []
  }
 ],
 "metadata": {
  "kernelspec": {
   "display_name": "movie_kernel",
   "language": "python",
   "name": "movie_kernel"
  },
  "language_info": {
   "codemirror_mode": {
    "name": "ipython",
    "version": 3
   },
   "file_extension": ".py",
   "mimetype": "text/x-python",
   "name": "python",
   "nbconvert_exporter": "python",
   "pygments_lexer": "ipython3",
   "version": "3.12.2"
  }
 },
 "nbformat": 4,
 "nbformat_minor": 5
}
